{
  "nbformat": 4,
  "nbformat_minor": 0,
  "metadata": {
    "colab": {
      "name": "01_TimeSeries_Exercise1.ipynb",
      "version": "0.3.2",
      "views": {},
      "default_view": {},
      "provenance": [],
      "collapsed_sections": []
    },
    "kernelspec": {
      "display_name": "Python 3",
      "language": "python",
      "name": "python3"
    }
  },
  "cells": [
    {
      "metadata": {
        "id": "HJ63rXnsNEcH",
        "colab_type": "text"
      },
      "cell_type": "markdown",
      "source": [
        "# Data Series\n",
        "\n",
        "A data series is an ordered collection, often with respect to time.\n",
        "\n",
        "Examples:\n",
        "- Temperatures throughout the year\n",
        "- Height/weight throughout a lifetime\n",
        "- Stock prices across time\n",
        "- Physiological signals (EEG, ECG, pulse rate, ...)\n",
        "- Sound or video\n",
        "\n",
        "<img src = \"https://raw.githubusercontent.com/BeaverWorksMedlytics/Week2_public/master/imgs/life_expectancy_time_series.png\">\n",
        "\n",
        "If order is important, then what you have is a time series\n",
        "- Doesn’t actually have to be throughout time!\n",
        "\n"
      ]
    },
    {
      "metadata": {
        "id": "WIVaEWeINEcJ",
        "colab_type": "text"
      },
      "cell_type": "markdown",
      "source": [
        "# Time Series Data Analysis\n",
        "\n",
        "Let's look at Google trends data of keywords 'diet', 'gym' and 'finance' to see how they vary over time. Could there be more searches for these terms in January when we're all trying to turn over a new leaf? "
      ]
    },
    {
      "metadata": {
        "id": "sCYrIFR2NEcK",
        "colab_type": "code",
        "colab": {
          "autoexec": {
            "startup": false,
            "wait_interval": 0
          }
        }
      },
      "cell_type": "code",
      "source": [
        "import pandas as pd\n",
        "import numpy as np\n",
        "import matplotlib.pyplot as plt\n",
        "import matplotlib\n",
        "\n",
        "%matplotlib inline\n",
        "matplotlib.rcParams.update({'font.size': 16})"
      ],
      "execution_count": 0,
      "outputs": []
    },
    {
      "metadata": {
        "id": "CiPpFm80NEcP",
        "colab_type": "code",
        "colab": {
          "autoexec": {
            "startup": false,
            "wait_interval": 0
          }
        }
      },
      "cell_type": "code",
      "source": [
        "#Import the data and see what's in it\n",
        "\n",
        "df = pd.read_csv('multiTimeline.csv', skiprows=1)\n",
        "df.head()"
      ],
      "execution_count": 0,
      "outputs": []
    },
    {
      "metadata": {
        "id": "Ft3B_xKHNEcY",
        "colab_type": "code",
        "colab": {
          "autoexec": {
            "startup": false,
            "wait_interval": 0
          }
        }
      },
      "cell_type": "code",
      "source": [
        "#Use the .info() method to check out your data types, number of rows and more\n",
        "\n",
        "df.info()"
      ],
      "execution_count": 0,
      "outputs": []
    },
    {
      "metadata": {
        "id": "BP7uFrlhNEce",
        "colab_type": "code",
        "colab": {
          "autoexec": {
            "startup": false,
            "wait_interval": 0
          }
        }
      },
      "cell_type": "code",
      "source": [
        "#Turn the 'month' column into a datetime data type and make it the index of the DataFrame\n",
        "df.month = pd.to_datetime(df.month)\n",
        "df.set_index('month', inplace=True)"
      ],
      "execution_count": 0,
      "outputs": []
    },
    {
      "metadata": {
        "id": "iOGXcZjvNEci",
        "colab_type": "text"
      },
      "cell_type": "markdown",
      "source": [
        "#### Exercise\n",
        "\n",
        "Use the pandas [built-in visualization method](http://pandas.pydata.org/pandas-docs/stable/generated/pandas.DataFrame.plot.html) to plot your data as 3 line plots on a single figure (one for each column)."
      ]
    },
    {
      "metadata": {
        "id": "L529i3kTNEck",
        "colab_type": "code",
        "colab": {
          "autoexec": {
            "startup": false,
            "wait_interval": 0
          }
        }
      },
      "cell_type": "code",
      "source": [
        "## YOUR CODE HERE"
      ],
      "execution_count": 0,
      "outputs": []
    },
    {
      "metadata": {
        "id": "r8D53gT0NEcp",
        "colab_type": "text"
      },
      "cell_type": "markdown",
      "source": [
        "#### Exercise\n",
        "\n",
        "Plot the 'diet' column by itself as a time series."
      ]
    },
    {
      "metadata": {
        "id": "Jm_ajBnENEcq",
        "colab_type": "code",
        "colab": {
          "autoexec": {
            "startup": false,
            "wait_interval": 0
          }
        }
      },
      "cell_type": "code",
      "source": [
        "## YOUR CODE HERE"
      ],
      "execution_count": 0,
      "outputs": []
    },
    {
      "metadata": {
        "id": "YnAH29hUNEcw",
        "colab_type": "text"
      },
      "cell_type": "markdown",
      "source": [
        " It looks like there are trends and seasonal components to these time series."
      ]
    },
    {
      "metadata": {
        "id": "eVYWxqHaNEcw",
        "colab_type": "text"
      },
      "cell_type": "markdown",
      "source": [
        "## Identifying Trends\n",
        "\n",
        "One popular way of identifying (long-term) trends is to taking a rolling average.  This means that, for each time point, we take the average of the points on either side of it (the number of points is specified by a window size, which you need to choose)."
      ]
    },
    {
      "metadata": {
        "id": "RmUpTVjHNEcx",
        "colab_type": "text"
      },
      "cell_type": "markdown",
      "source": [
        "#### Exercise\n",
        "\n",
        "Plot the rolling average of both 'diet'and 'gym' using [built-in pandas methods](https://pandas.pydata.org/pandas-docs/stable/generated/pandas.DataFrame.rolling.html). What window size does it make sense to use?"
      ]
    },
    {
      "metadata": {
        "id": "ofGzTbNNNEcy",
        "colab_type": "code",
        "colab": {
          "autoexec": {
            "startup": false,
            "wait_interval": 0
          }
        }
      },
      "cell_type": "code",
      "source": [
        "## YOUR CODE HERE"
      ],
      "execution_count": 0,
      "outputs": []
    },
    {
      "metadata": {
        "id": "RYYKG-TcNEc2",
        "colab_type": "text"
      },
      "cell_type": "markdown",
      "source": [
        "###  Seasonal Patterns\n",
        "\n",
        "You can remove the trend from a time series to investigate seasonality. To remove the trend, you can subtract the trend you computed above (rolling mean) from the original signal. This, however, will be dependent on how many data points you averaged over. Another way to remove the trend is called __differencing__, where you look at the difference between successive data points (called first-order differencing)."
      ]
    },
    {
      "metadata": {
        "id": "aCWYQIgiNEc3",
        "colab_type": "text"
      },
      "cell_type": "markdown",
      "source": [
        "#### Exercise\n",
        "\n",
        "Use pandas to compute and plot the [first order difference](https://pandas.pydata.org/pandas-docs/stable/generated/pandas.DataFrame.diff.html) of the 'diet' series"
      ]
    },
    {
      "metadata": {
        "id": "NVXxpWFcNEc4",
        "colab_type": "code",
        "colab": {
          "autoexec": {
            "startup": false,
            "wait_interval": 0
          }
        }
      },
      "cell_type": "code",
      "source": [
        "## YOUR CODE HERE"
      ],
      "execution_count": 0,
      "outputs": []
    },
    {
      "metadata": {
        "id": "3geLg597NEc8",
        "colab_type": "text"
      },
      "cell_type": "markdown",
      "source": [
        "See that you have removed much of the trend and you can really see the peaks that occur twice a year.  What does this mean?"
      ]
    },
    {
      "metadata": {
        "id": "_w0Ht4NyNEc8",
        "colab_type": "text"
      },
      "cell_type": "markdown",
      "source": [
        "Differencing is super helpful in turning your time series into a __stationary time series__. A stationary time series is one whose statistical properties (such as mean & variance) don't change over time. Stationary time series are useful because many time series forecasting methods are based on the assumption that the time series is approximately stationary."
      ]
    },
    {
      "metadata": {
        "id": "1mssZzD7NEc9",
        "colab_type": "text"
      },
      "cell_type": "markdown",
      "source": [
        "## Periodicity and Autocorrelation\n",
        "\n",
        "\n",
        "A time series is *periodic* if it repeats itself at equally spaced intervals, say, every 12 months. Another way to think of this is that if the time series has a peak somewhere, then it will have a peak 12 months after that and, if it has a trough somewhere, it will also have a trough 12 months after that. Yet another way of thinking about this is that the time series is correlated with itself shifted by 12 months.\n",
        "\n",
        "Considering the correlation of a time series with such a shifted version of itself is captured by the concept of autocorrelation. We'll get to this in a minute. First, let's remind ourselves about correlation:\n",
        "\n",
        "### Correlation\n",
        "\n",
        "The correlation coefficient of two variables captures how linearly related they are."
      ]
    },
    {
      "metadata": {
        "id": "t3PLEqwVNEc9",
        "colab_type": "text"
      },
      "cell_type": "markdown",
      "source": [
        "#### Exercise\n",
        "\n",
        "Compute the [correlation coefficients](https://pandas.pydata.org/pandas-docs/stable/generated/pandas.DataFrame.corr.html) of all of these time series and interpret the results."
      ]
    },
    {
      "metadata": {
        "id": "z88Kho9ENEc-",
        "colab_type": "code",
        "colab": {
          "autoexec": {
            "startup": false,
            "wait_interval": 0
          }
        }
      },
      "cell_type": "code",
      "source": [
        "## YOUR CODE HERE"
      ],
      "execution_count": 0,
      "outputs": []
    },
    {
      "metadata": {
        "id": "ZZwnTqH9NEdB",
        "colab_type": "text"
      },
      "cell_type": "markdown",
      "source": [
        "#### Answer\n",
        "\n",
        "((YOUR ANSWER HERE))"
      ]
    },
    {
      "metadata": {
        "id": "4sBR17axNEdB",
        "colab_type": "text"
      },
      "cell_type": "markdown",
      "source": [
        "#### Exercise\n",
        "\n",
        "Now plot the first-order differences of these time series and then compute the correlation coefficients. Removing the trend may reveal correlation in seasonality. Interpret the results."
      ]
    },
    {
      "metadata": {
        "id": "xp0vbfrWNEdC",
        "colab_type": "code",
        "colab": {
          "autoexec": {
            "startup": false,
            "wait_interval": 0
          }
        }
      },
      "cell_type": "code",
      "source": [
        "## YOUR CODE HERE"
      ],
      "execution_count": 0,
      "outputs": []
    },
    {
      "metadata": {
        "id": "12IUsbUlNEdG",
        "colab_type": "text"
      },
      "cell_type": "markdown",
      "source": [
        "#### Answer\n",
        "\n",
        "((YOUR ANSWER HERE))"
      ]
    },
    {
      "metadata": {
        "id": "rzZ2kQj0NEdH",
        "colab_type": "text"
      },
      "cell_type": "markdown",
      "source": [
        "###  Autocorrelation\n",
        "\n",
        "Let's now plot the autocorrelation of the 'diet' series: on the x-axis you have the lag and on the y-axis you have how correlated the time series is with itself at that lag. For example, if the original time series repeats itself every two days, you would expect to see a spike in the autocorrelation function at 2 days."
      ]
    },
    {
      "metadata": {
        "id": "09c0gv2RNEdI",
        "colab_type": "code",
        "colab": {
          "autoexec": {
            "startup": false,
            "wait_interval": 0
          }
        }
      },
      "cell_type": "code",
      "source": [
        "pd.plotting.autocorrelation_plot(diet);"
      ],
      "execution_count": 0,
      "outputs": []
    },
    {
      "metadata": {
        "id": "0o6ohZadNEdM",
        "colab_type": "text"
      },
      "cell_type": "markdown",
      "source": [
        "#### Exercise\n",
        "\n",
        "Interpret the results."
      ]
    },
    {
      "metadata": {
        "id": "HciqtrmlNEdN",
        "colab_type": "text"
      },
      "cell_type": "markdown",
      "source": [
        "#### Answer\n",
        "\n",
        "((YOUR ANSWER HERE))"
      ]
    },
    {
      "metadata": {
        "id": "Hy-URdtiNEdN",
        "colab_type": "code",
        "colab": {
          "autoexec": {
            "startup": false,
            "wait_interval": 0
          }
        }
      },
      "cell_type": "code",
      "source": [
        ""
      ],
      "execution_count": 0,
      "outputs": []
    }
  ]
}