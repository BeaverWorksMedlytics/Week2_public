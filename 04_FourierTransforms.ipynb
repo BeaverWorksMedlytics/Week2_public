{
  "nbformat": 4,
  "nbformat_minor": 0,
  "metadata": {
    "colab": {
      "name": "FourierTransforms_Solutions.ipynb",
      "version": "0.3.2",
      "views": {},
      "default_view": {},
      "provenance": [],
      "collapsed_sections": []
    },
    "kernelspec": {
      "display_name": "Python 3",
      "language": "python",
      "name": "python3"
    }
  },
  "cells": [
    {
      "metadata": {
        "id": "-OMD2Tpa8kQ1",
        "colab_type": "text"
      },
      "cell_type": "markdown",
      "source": [
        "# Fourier Transform\n",
        "\n",
        "Virtually everything in the world can be described via a waveform - a function of time, space or some other variable. And all waveforms, no matter how complex, are actually just the sum of simple sinusoids of different frequencies. The Fourier Transform decomposes a waveform - basically any real world waveform, into sinusoids. Thus, it allows us to go from the time domain to the frequency domain.\n",
        "\n",
        "\n",
        "<img src = \"https://raw.githubusercontent.com/BeaverWorksMedlytics/Week2_public/master/imgs/time_freq_domain.png\">\n",
        "\n",
        "\n",
        "<img src = \"https://raw.githubusercontent.com/BeaverWorksMedlytics/Week2_public/master/imgs/fourier_transform_fig.png\">\n",
        "\n",
        "The Fourier Transform is like a prism.\n",
        "\n",
        "<img src = \"https://raw.githubusercontent.com/BeaverWorksMedlytics/Week2_public/master/imgs/prism.png\">\n",
        "\n"
      ]
    },
    {
      "metadata": {
        "id": "XSVc-yd7VpMu",
        "colab_type": "code",
        "colab": {
          "autoexec": {
            "startup": false,
            "wait_interval": 0
          }
        }
      },
      "cell_type": "code",
      "source": [
        "# The first time you run in your Colab environment, you will need to clone the repo to Colab (then restart runtime)\n",
        "! git clone https://github.com/BeaverWorksMedlytics/Week2_public.git"
      ],
      "execution_count": 0,
      "outputs": []
    },
    {
      "metadata": {
        "id": "z7h0z254Vreg",
        "colab_type": "code",
        "colab": {
          "autoexec": {
            "startup": false,
            "wait_interval": 0
          }
        }
      },
      "cell_type": "code",
      "source": [
        "import os\n",
        "os.chdir('Week2_public')\n",
        "os.listdir()"
      ],
      "execution_count": 0,
      "outputs": []
    },
    {
      "metadata": {
        "id": "fkjBAhW0CSXP",
        "colab_type": "code",
        "colab": {
          "autoexec": {
            "startup": false,
            "wait_interval": 0
          }
        }
      },
      "cell_type": "code",
      "source": [
        "import numpy as np\n",
        "import matplotlib.pyplot as plt\n",
        "import scipy\n",
        "import matplotlib\n",
        "\n",
        "%matplotlib inline\n",
        "matplotlib.rcParams.update({'font.size': 16,'figure.figsize':(10,6)})"
      ],
      "execution_count": 0,
      "outputs": []
    },
    {
      "metadata": {
        "id": "2vb7Lp5NCQeM",
        "colab_type": "text"
      },
      "cell_type": "markdown",
      "source": [
        "## Complex Numbers\n",
        "Before we define Fourier Transform, let's briefly review complex numbers. Recall that imaginary number __i__ is defined as a square root of -1:\n",
        "\n",
        "\n",
        "$$i^2 = -1$$\n",
        "\n",
        "Also, recall the Euler's formula ([the proof is cute and uses Taylor series](https://www.youtube.com/watch?v=jcrQ3rPUYjc)):\n",
        "\n",
        "$$e^{ix} = cos(x) + i*sin(x)$$\n",
        "\n",
        "If we put in a general complex number, we get:\n",
        "\n",
        "$$e^{x+iy} = e^x(cos(y) + i*sin(y))$$\n",
        "\n",
        "*By the way, python uses $j$ instead of $i$. It handles computation with complex numbers with relative ease, though.*"
      ]
    },
    {
      "metadata": {
        "id": "uSBA1q6w8kQ7",
        "colab_type": "code",
        "colab": {
          "autoexec": {
            "startup": false,
            "wait_interval": 0
          }
        }
      },
      "cell_type": "code",
      "source": [
        "z1 = 1+2j\n",
        "z1"
      ],
      "execution_count": 0,
      "outputs": []
    },
    {
      "metadata": {
        "id": "j2csfgRr8kRZ",
        "colab_type": "code",
        "colab": {
          "autoexec": {
            "startup": false,
            "wait_interval": 0
          }
        }
      },
      "cell_type": "code",
      "source": [
        "z2 = 3-3j "
      ],
      "execution_count": 0,
      "outputs": []
    },
    {
      "metadata": {
        "id": "3hV-P4EZ8kRs",
        "colab_type": "code",
        "colab": {
          "autoexec": {
            "startup": false,
            "wait_interval": 0
          }
        }
      },
      "cell_type": "code",
      "source": [
        "z1+z1, z1-z2"
      ],
      "execution_count": 0,
      "outputs": []
    },
    {
      "metadata": {
        "id": "8BTi01-U8kR3",
        "colab_type": "code",
        "colab": {
          "autoexec": {
            "startup": false,
            "wait_interval": 0
          }
        }
      },
      "cell_type": "code",
      "source": [
        "z1*z2, z1/z2"
      ],
      "execution_count": 0,
      "outputs": []
    },
    {
      "metadata": {
        "id": "lD03yIZu8kSS",
        "colab_type": "code",
        "colab": {
          "autoexec": {
            "startup": false,
            "wait_interval": 0
          }
        }
      },
      "cell_type": "code",
      "source": [
        "np.exp(z1)"
      ],
      "execution_count": 0,
      "outputs": []
    },
    {
      "metadata": {
        "id": "whd9IB128kSa",
        "colab_type": "code",
        "colab": {
          "autoexec": {
            "startup": false,
            "wait_interval": 0
          }
        }
      },
      "cell_type": "code",
      "source": [
        "np.exp(z1).real, np.exp(z1).imag"
      ],
      "execution_count": 0,
      "outputs": []
    },
    {
      "metadata": {
        "id": "FBysgSa4ZvLO",
        "colab_type": "text"
      },
      "cell_type": "markdown",
      "source": [
        "An imaginary number has a magnitude (amplitude) and angle (phase)\n",
        "\n",
        "\n",
        "<img src = \"https://raw.githubusercontent.com/BeaverWorksMedlytics/Week2_public/master/imgs/complex_plane.png\">\n",
        "\n",
        "\n"
      ]
    },
    {
      "metadata": {
        "id": "KRXbX3_GYpZw",
        "colab_type": "code",
        "colab": {
          "autoexec": {
            "startup": false,
            "wait_interval": 0
          }
        }
      },
      "cell_type": "code",
      "source": [
        "# magnitude and the angle of the complex number\n",
        "mag = abs(z1)\n",
        "ang = np.angle(z1)\n",
        "\n",
        "print(mag, ang)"
      ],
      "execution_count": 0,
      "outputs": []
    },
    {
      "metadata": {
        "id": "Ibvi_var8kSg",
        "colab_type": "text"
      },
      "cell_type": "markdown",
      "source": [
        "\n",
        "## Fourier Transform Definition\n",
        "\n",
        "The Fourier Transform is a function that takes a signal in the time domain $g(t)$ and translates it into one in the frequency domain, $G(\\omega)$.  The *inverse* Fourier Transform takes a signal in the frequency domain $G(\\omega)$ and translates it into one in the time domain $g(t)$:\n",
        "\n",
        "$$G(\\omega) = \\int_{-\\infty}^\\infty g(t) e^{-i \\omega t} dt$$\n",
        "$$g(t) = \\int_{-\\infty}^\\infty G(\\omega) e^{i \\omega t} d\\omega$$\n",
        "\n",
        "\n",
        "If you're interested in getting some intuition behind this math, you should check out this [pretty nifty video](https://www.youtube.com/watch?v=spUNpyF58BY).\n",
        "\n",
        "\n",
        "For our purposes, we will just be using the discrete version...\n",
        "\n",
        "\n",
        "## Discrete Fourier Transform (DFT) \n",
        "$$G[n] = \\sum_{k=0}^{N-1} g[k] e^{-i 2 \\pi k \\left({\\frac{n}{N}}\\right) }$$\n",
        "\n",
        "Where:\n",
        "\n",
        "* $N$ is the total number of samples\n",
        "* $g[k]$ is the $k^{th}$ sample for the time-domain function (i.e. the DFT input)\n",
        "* $G[n]$ is the output of the DFT for the $n^{th}$ frequency bin.  To get the frequency, you have to multiply by the sample rate.  \n",
        "\n",
        "\n",
        "### So what does the Fourier Transform give us?\n",
        "\n",
        "* The amplitudes of simple sine waves\n",
        "* Their starting position - phase (we won't get into this part much)\n",
        "\n",
        "### What sine wave frequencies are used?\n",
        "\n",
        "* Answer: This is determined by how many samples are provided to the Fourier Transform\n",
        "* Frequencies range from 0 to (number of samples) / 2\n",
        "* **Example: If your sample rate is 100Hz, and you give the FFT 100 samples, the FFT will return the amplitude of the components with frequencies 0 to 50Hz.**"
      ]
    },
    {
      "metadata": {
        "id": "o9on_7pHbhfH",
        "colab_type": "code",
        "colab": {
          "autoexec": {
            "startup": false,
            "wait_interval": 0
          }
        }
      },
      "cell_type": "code",
      "source": [
        "def DFT(g):\n",
        "    \"\"\"\n",
        "    Compute the discrete Fourier Transform of the 1D array x\n",
        "    :param g: (array)\n",
        "    \"\"\"\n",
        "\n",
        "    ## YOUR CODE HERE"
      ],
      "execution_count": 0,
      "outputs": []
    },
    {
      "metadata": {
        "id": "v7J-bC7Rcmy1",
        "colab_type": "text"
      },
      "cell_type": "markdown",
      "source": [
        "Let's see how this works."
      ]
    },
    {
      "metadata": {
        "id": "zGgD6g8JcmEN",
        "colab_type": "code",
        "colab": {
          "autoexec": {
            "startup": false,
            "wait_interval": 0
          }
        }
      },
      "cell_type": "code",
      "source": [
        "num_sec = 2         # sampling period (in seconds)\n",
        "num_pts = 500       # samples per second\n",
        "\n",
        "\n",
        "# make a complex signal with two sinusoids\n",
        "t = np.linspace(0, num_sec, num_pts*num_sec)\n",
        "s = np.sin(40 * 2 * np.pi * t) + 0.5 * np.sin(90 * 2 * np.pi * t)\n",
        "\n",
        "plt.figure(figsize=(15,6))\n",
        "plt.ylabel(\"Amplitude\")\n",
        "plt.xlabel(\"Time [s]\")\n",
        "plt.plot(t, s)\n",
        "plt.show()"
      ],
      "execution_count": 0,
      "outputs": []
    },
    {
      "metadata": {
        "id": "x9dXvAQMMCM_",
        "colab_type": "text"
      },
      "cell_type": "markdown",
      "source": [
        "### *Aside:*\n",
        "The FFT outputs an array of length N corresponding to N/2 frequencies, and N/2 of their complex congugates.   \n",
        "\n",
        "For real number inputs is $n$ the complex conjugate of $N - n$.  This is true for all numbers in the sequence.\n",
        "\n",
        "Because the second half of the sequence gives us no new information we can already conclude that the half of the FT sequence is the output we need."
      ]
    },
    {
      "metadata": {
        "id": "96pX4ne4Kphq",
        "colab_type": "code",
        "colab": {
          "autoexec": {
            "startup": false,
            "wait_interval": 0
          }
        }
      },
      "cell_type": "code",
      "source": [
        "# Look at the output of the fft\n",
        "fft = np.fft.fft(s)  \n",
        "\n",
        "for i in range(3):\n",
        "    print(\"\\nValue at index {}:\\t{}\".format(i, fft[i]), \"\\nValue at index {}:\\t{}\".format(fft.size - i, fft[-i]))\n"
      ],
      "execution_count": 0,
      "outputs": []
    },
    {
      "metadata": {
        "id": "nbPw5CuJKgtn",
        "colab_type": "code",
        "colab": {
          "autoexec": {
            "startup": false,
            "wait_interval": 0
          }
        }
      },
      "cell_type": "code",
      "source": [
        "Fs = 1/(t[1] - t[0])     # sample rate\n",
        "N = s.size               # number of samples (length of signal)\n",
        "\n",
        "k = np.arange(N)         # frequncy bins\n",
        "T = N/Fs                 # frequency interval of a single bin\n",
        "frq = k/T                # two sides frequency range\n",
        "frq = frq[range(N//2)]   # one side frequency range (Fourier transform outputs symmetric frequencies)\n"
      ],
      "execution_count": 0,
      "outputs": []
    },
    {
      "metadata": {
        "id": "Uf6K67rZIfQl",
        "colab_type": "code",
        "colab": {
          "autoexec": {
            "startup": false,
            "wait_interval": 0
          }
        }
      },
      "cell_type": "code",
      "source": [
        "# Perform Fourier Transform using your function DFT() and numpy's fft\n",
        "\n",
        "## YOUR CODE HERE"
      ],
      "execution_count": 0,
      "outputs": []
    },
    {
      "metadata": {
        "id": "xoYfdFZsNYWU",
        "colab_type": "text"
      },
      "cell_type": "markdown",
      "source": [
        "Now plot the spectrum!"
      ]
    },
    {
      "metadata": {
        "id": "rDjN3djDJCv1",
        "colab_type": "code",
        "colab": {
          "autoexec": {
            "startup": false,
            "wait_interval": 0
          }
        }
      },
      "cell_type": "code",
      "source": [
        "# PLOT\n",
        "\n",
        "## YOUR CODE HERE"
      ],
      "execution_count": 0,
      "outputs": []
    },
    {
      "metadata": {
        "id": "H505z4qZVwWD",
        "colab_type": "text"
      },
      "cell_type": "markdown",
      "source": [
        "## Inverse Fourier Transform (IFT)"
      ]
    },
    {
      "metadata": {
        "id": "9ddUsIycV7f2",
        "colab_type": "text"
      },
      "cell_type": "markdown",
      "source": [
        "\n",
        "Recall: \n",
        "\n",
        "\n",
        "#### Discrete Fourier Transform (DFT) \n",
        "$$G[n] = \\sum_{k=0}^{N-1} g[k] e^{-i 2 \\pi k \\left({\\frac{n}{N}}\\right) }$$\n",
        "\n",
        "#### Inverse Discrete  Fourier Transform (IDFT)\n",
        "$$g[k]=\\frac{1}{N} \\sum_{n=0}^{N-1}G[n]e^{i2\\pi k\\left({\\frac{n}{N}}\\right) }$$\n",
        "\n",
        "\n",
        "**Meaning**:\n",
        "\n",
        "* $N$ is the total number of samples\n",
        "* $g[k]$ is the $k^{th}$ sample in the time-domain \n",
        "* $G[n]$ is the $n^{th}$ sample in the frequency-domain "
      ]
    },
    {
      "metadata": {
        "id": "yIyCcuEeUh8V",
        "colab_type": "code",
        "colab": {
          "autoexec": {
            "startup": false,
            "wait_interval": 0
          }
        }
      },
      "cell_type": "code",
      "source": [
        "# Take the Fourier Transform\n",
        "# Then take the Inverse Fourier Transform\n",
        "\n",
        "## YOUR CODE HERE"
      ],
      "execution_count": 0,
      "outputs": []
    },
    {
      "metadata": {
        "id": "wbXcPxiuUiVw",
        "colab_type": "code",
        "colab": {
          "autoexec": {
            "startup": false,
            "wait_interval": 0
          }
        }
      },
      "cell_type": "code",
      "source": [
        "# Plot it!\n",
        "\n",
        "## YOUR CODE HERE"
      ],
      "execution_count": 0,
      "outputs": []
    },
    {
      "metadata": {
        "id": "HiUGEFluVWP_",
        "colab_type": "text"
      },
      "cell_type": "markdown",
      "source": [
        "### Yay!\n",
        "We can decompose a signal into its component frequencies, and reconstruct it back to the time domain!\n",
        "\n",
        "Let's try with a more complicated signal."
      ]
    },
    {
      "metadata": {
        "id": "eNDPlKbVUiSx",
        "colab_type": "code",
        "colab": {
          "autoexec": {
            "startup": false,
            "wait_interval": 0
          }
        }
      },
      "cell_type": "code",
      "source": [
        "y_ecg = np.loadtxt('https://raw.githubusercontent.com/BeaverWorksMedlytics/Week2_public/master/ecg.txt',skiprows=4)\n",
        "\n",
        "\n",
        "# FFT and IFFT\n",
        "\n",
        "# PLOT\n"
      ],
      "execution_count": 0,
      "outputs": []
    },
    {
      "metadata": {
        "id": "y535EEPoXMq7",
        "colab_type": "text"
      },
      "cell_type": "markdown",
      "source": [
        "Okay, well that looks pretty good, but how well were we able to reconstruct the signal really?"
      ]
    },
    {
      "metadata": {
        "id": "qYtzNbLJUiP4",
        "colab_type": "code",
        "colab": {
          "autoexec": {
            "startup": false,
            "wait_interval": 0
          }
        }
      },
      "cell_type": "code",
      "source": [
        "np.corrcoef(abs(y_ecg), abs(y_ecg_recon))"
      ],
      "execution_count": 0,
      "outputs": []
    },
    {
      "metadata": {
        "id": "LVSYqMvekvU6",
        "colab_type": "code",
        "colab": {
          "autoexec": {
            "startup": false,
            "wait_interval": 0
          }
        }
      },
      "cell_type": "code",
      "source": [
        "# PLOT THE FREQUENCY SPECTRUM"
      ],
      "execution_count": 0,
      "outputs": []
    },
    {
      "metadata": {
        "id": "nuLi5WFaXW6M",
        "colab_type": "text"
      },
      "cell_type": "markdown",
      "source": [
        "## Okay, but that was a relatively periodic signal...\n",
        "Let's try with a signal that doesn't look periodic at all!"
      ]
    },
    {
      "metadata": {
        "id": "zUFajolkUiMy",
        "colab_type": "code",
        "colab": {
          "autoexec": {
            "startup": false,
            "wait_interval": 0
          }
        }
      },
      "cell_type": "code",
      "source": [
        "import scipy.io.wavfile\n",
        "from IPython.display import Audio\n",
        "\n",
        "# original signal\n",
        "(sample_rate, y_newt) = scipy.io.wavfile.read(\"./sounds/newt.wav\")\n",
        "t = np.arange(0, len(y_newt)/sample_rate, 1/sample_rate)\n",
        "\n",
        "print('Sample rate: {} Hz'.format(sample_rate))"
      ],
      "execution_count": 0,
      "outputs": []
    },
    {
      "metadata": {
        "id": "ettTW0KacrfM",
        "colab_type": "code",
        "colab": {
          "autoexec": {
            "startup": false,
            "wait_interval": 0
          }
        }
      },
      "cell_type": "code",
      "source": [
        "# PLOT THE FREQUENCY SPECTRUM\n",
        "\n"
      ],
      "execution_count": 0,
      "outputs": []
    },
    {
      "metadata": {
        "id": "1QQkur43UiKC",
        "colab_type": "code",
        "colab": {
          "autoexec": {
            "startup": false,
            "wait_interval": 0
          }
        }
      },
      "cell_type": "code",
      "source": [
        "# FFT, IFFT\n",
        "\n",
        "\n",
        "# PLOT\n"
      ],
      "execution_count": 0,
      "outputs": []
    },
    {
      "metadata": {
        "id": "PUiCkD_kZH7u",
        "colab_type": "code",
        "colab": {
          "autoexec": {
            "startup": false,
            "wait_interval": 0
          }
        }
      },
      "cell_type": "code",
      "source": [
        "np.corrcoef(abs(y_newt), abs(y_newt_recon))"
      ],
      "execution_count": 0,
      "outputs": []
    },
    {
      "metadata": {
        "id": "wkrVHd3AUiHQ",
        "colab_type": "code",
        "colab": {
          "autoexec": {
            "startup": false,
            "wait_interval": 0
          }
        }
      },
      "cell_type": "code",
      "source": [
        "# Original signal\n",
        "Audio(data=y_newt, rate=sample_rate)"
      ],
      "execution_count": 0,
      "outputs": []
    },
    {
      "metadata": {
        "id": "-uIoe4T5UiED",
        "colab_type": "code",
        "colab": {
          "autoexec": {
            "startup": false,
            "wait_interval": 0
          }
        }
      },
      "cell_type": "code",
      "source": [
        "# Digitized signal\n",
        "Audio(data=abs(y_newt_recon), rate=sample_rate)"
      ],
      "execution_count": 0,
      "outputs": []
    },
    {
      "metadata": {
        "id": "YE71QSEzdV18",
        "colab_type": "text"
      },
      "cell_type": "markdown",
      "source": [
        "# Spectogram\n",
        "\n",
        "A spectrogram is a visual representation of the spectrum of frequencies of sound or other signal as they vary with time. Spectrograms are sometimes called sonographs, voiceprints, or voicegrams.\n",
        "\n",
        "This is a great representation because it captures both time and frequency information!"
      ]
    },
    {
      "metadata": {
        "id": "PcKW5UIbYc5Y",
        "colab_type": "code",
        "colab": {
          "autoexec": {
            "startup": false,
            "wait_interval": 0
          }
        }
      },
      "cell_type": "code",
      "source": [
        "from scipy import signal\n",
        "\n",
        "(sample_rate, y_newt) = scipy.io.wavfile.read(\"./sounds/newt.wav\")\n",
        "sample_freq, segment_time, spec_data = signal.spectrogram(y_newt,sample_rate)"
      ],
      "execution_count": 0,
      "outputs": []
    },
    {
      "metadata": {
        "id": "NmPMM7XEZGNY",
        "colab_type": "code",
        "colab": {
          "autoexec": {
            "startup": false,
            "wait_interval": 0
          }
        }
      },
      "cell_type": "code",
      "source": [
        "# PLOT\n",
        "plt.figure(figsize=(20,12))\n",
        "plt.subplot(2,2,1)\n",
        "plt.plot(t,y_newt)\n",
        "plt.title('Original Signal')\n",
        "\n",
        "plt.subplot(2,2,3)\n",
        "plt.pcolormesh(segment_time, sample_freq, spec_data,cmap='jet',vmax=10)\n",
        "plt.ylabel('Frequency [Hz]')\n",
        "plt.xlabel('Time [sec]')\n",
        "plt.title(\"Newt Spectogram\")\n",
        "\n",
        "plt.subplot(2,2,4)\n",
        "plt.title(\"Newt Spectrum\")\n",
        "plt.xlabel(\"Amplitude\")\n",
        "plt.ylabel(\"Frequency [Hz]\")\n",
        "plt.plot(np.abs(fft_plot),frq)  \n",
        "plt.xlim([0,5])\n",
        "plt.ylim([0,max(frq)])"
      ],
      "execution_count": 0,
      "outputs": []
    }
  ]
}