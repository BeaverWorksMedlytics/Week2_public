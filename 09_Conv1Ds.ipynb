{
  "nbformat": 4,
  "nbformat_minor": 0,
  "metadata": {
    "colab": {
      "name": "Conv1DStudent.ipynb",
      "version": "0.3.2",
      "views": {},
      "default_view": {},
      "provenance": [],
      "collapsed_sections": []
    }
  },
  "cells": [
    {
      "metadata": {
        "id": "PcahCqill_TM",
        "colab_type": "text"
      },
      "cell_type": "markdown",
      "source": [
        "# 1d Convolutional Neural Networks"
      ]
    },
    {
      "metadata": {
        "id": "5juHZFcFugzS",
        "colab_type": "code",
        "colab": {
          "autoexec": {
            "startup": false,
            "wait_interval": 0
          }
        }
      },
      "cell_type": "code",
      "source": [
        "\n",
        "# Imports\n",
        "import numpy as np\n",
        "import os\n",
        "# from utils.utilities import *\n",
        "from sklearn.model_selection import train_test_split\n",
        "import matplotlib.pyplot as plt\n",
        "import tensorflow as tf\n",
        "import pandas as pd\n",
        "import tensorflow as tf\n",
        "from tensorflow import keras"
      ],
      "execution_count": 0,
      "outputs": []
    },
    {
      "metadata": {
        "id": "Bx9AXfRcmGky",
        "colab_type": "text"
      },
      "cell_type": "markdown",
      "source": [
        "### About the Data"
      ]
    },
    {
      "metadata": {
        "id": "8-uE2dd9mJMv",
        "colab_type": "text"
      },
      "cell_type": "markdown",
      "source": [
        "Data is from people doing one of these activities (WALKING, WALKING_UPSTAIRS, WALKING_DOWNSTAIRS, SITTING, STANDING, LAYING) <br><br>\n",
        "The data is from a smartphone and provides the body acceleration, general acceleration and a gyroscope reading <br><br>\n",
        "Data is from: https://archive.ics.uci.edu/ml/datasets/human+activity+recognition+using+smartphones "
      ]
    },
    {
      "metadata": {
        "id": "gHFlVzfY4ZPQ",
        "colab_type": "text"
      },
      "cell_type": "markdown",
      "source": [
        "### Read in data from functions provided below"
      ]
    },
    {
      "metadata": {
        "id": "ikIjLu7w4Mm_",
        "colab_type": "code",
        "colab": {
          "autoexec": {
            "startup": false,
            "wait_interval": 0
          }
        }
      },
      "cell_type": "code",
      "source": [
        "X_train, labels_train, list_ch_train = read_data_train() # train\n",
        "X_test, labels_test, list_ch_test = read_data_test()"
      ],
      "execution_count": 0,
      "outputs": []
    },
    {
      "metadata": {
        "id": "EG3Tq1ajmjOu",
        "colab_type": "code",
        "colab": {
          "autoexec": {
            "startup": false,
            "wait_interval": 0
          },
          "base_uri": "https://localhost:8080/",
          "height": 34
        },
        "outputId": "42b3f417-f927-4749-a95e-c6f308c5065a",
        "executionInfo": {
          "status": "ok",
          "timestamp": 1531501513123,
          "user_tz": 240,
          "elapsed": 256,
          "user": {
            "displayName": "john passarelli",
            "photoUrl": "https://lh3.googleusercontent.com/a/default-user=s128",
            "userId": "102241934905781120798"
          }
        }
      },
      "cell_type": "code",
      "source": [
        "print(X_train.shape)"
      ],
      "execution_count": 0,
      "outputs": [
        {
          "output_type": "stream",
          "text": [
            "(7352, 128, 9)\n"
          ],
          "name": "stdout"
        }
      ]
    },
    {
      "metadata": {
        "id": "MwRtb-8ymqDz",
        "colab_type": "text"
      },
      "cell_type": "markdown",
      "source": [
        "\n",
        "#### Explaining the shape of the data \n",
        "There are 7,352 data points that are classified as doing one of those activities <br>\n",
        "There are 128 time steps <br>\n",
        "There are 9 values for each time step for each data point for the x,y,z values of the body \n",
        "acceleration, general acceleration and gyrscope reading. <br>"
      ]
    },
    {
      "metadata": {
        "id": "V-8mOh7cm75k",
        "colab_type": "text"
      },
      "cell_type": "markdown",
      "source": [
        "### Use train_test_split to create training and validation data and labels"
      ]
    },
    {
      "metadata": {
        "id": "buuR3HH9yTOw",
        "colab_type": "code",
        "colab": {
          "autoexec": {
            "startup": false,
            "wait_interval": 0
          }
        }
      },
      "cell_type": "code",
      "source": [
        "# your code here"
      ],
      "execution_count": 0,
      "outputs": []
    },
    {
      "metadata": {
        "id": "roTpeSQMnKHa",
        "colab_type": "text"
      },
      "cell_type": "markdown",
      "source": [
        "One hot coding is when each row represents one label and it the nonzero column represents what the label is<br>\n",
        " [0,0,0,0,0,1] <br>\n",
        "           ^ This label is LAYING, which was previously represented with a 5\n",
        "           <br><br>"
      ]
    },
    {
      "metadata": {
        "id": "0LiLobJZnscs",
        "colab_type": "text"
      },
      "cell_type": "markdown",
      "source": [
        "### One hot encoding functions are provided at the bottom of this notebook <br> Use these functions to convert the training, validation and testing labels"
      ]
    },
    {
      "metadata": {
        "id": "gZQJY0rYnKeC",
        "colab_type": "code",
        "colab": {
          "autoexec": {
            "startup": false,
            "wait_interval": 0
          }
        }
      },
      "cell_type": "code",
      "source": [
        "# your code here"
      ],
      "execution_count": 0,
      "outputs": []
    },
    {
      "metadata": {
        "id": "7bi9-LMuotEG",
        "colab_type": "text"
      },
      "cell_type": "markdown",
      "source": [
        "### Define your Keras model <br>\n",
        "You wlil want to use\n",
        "\n",
        "See for examples on creating Keras modelshttps://github.com/keras-team/keras/blob/master/examples/mnist_cnn.py"
      ]
    },
    {
      "metadata": {
        "id": "9mwwpV8upQYD",
        "colab_type": "code",
        "colab": {
          "autoexec": {
            "startup": false,
            "wait_interval": 0
          }
        }
      },
      "cell_type": "code",
      "source": [
        "# fill in with your code below\n",
        "model = keras.Sequential()\n",
        "model.add( # add convolutional layer )\n",
        "model.add( # add pooling layer )\n",
        "model.add( # what layer is needed to output the predict results )\n",
        "print(model.summary())  # view model\n",
        "    \n",
        "    \n"
      ],
      "execution_count": 0,
      "outputs": []
    },
    {
      "metadata": {
        "id": "X844AtBlqV1Y",
        "colab_type": "text"
      },
      "cell_type": "markdown",
      "source": [
        "### Compile your model"
      ]
    },
    {
      "metadata": {
        "id": "6KSPl0lMqUUZ",
        "colab_type": "code",
        "colab": {
          "autoexec": {
            "startup": false,
            "wait_interval": 0
          },
          "base_uri": "https://localhost:8080/",
          "height": 129
        },
        "outputId": "9d632914-7096-4e4f-c3ad-79155042130c",
        "executionInfo": {
          "status": "error",
          "timestamp": 1531504450446,
          "user_tz": 240,
          "elapsed": 467,
          "user": {
            "displayName": "john passarelli",
            "photoUrl": "https://lh3.googleusercontent.com/a/default-user=s128",
            "userId": "102241934905781120798"
          }
        }
      },
      "cell_type": "code",
      "source": [
        "lr =  # choose a learning rate, this will be a good paramter to tune\n",
        "model.compile( optimizer=tf.train.AdamOptimizer(lr), loss=keras.losses.categorical_crossentropy, metrics = ['accuracy'] )"
      ],
      "execution_count": 3,
      "outputs": [
        {
          "output_type": "error",
          "ename": "SyntaxError",
          "evalue": "ignored",
          "traceback": [
            "\u001b[0;36m  File \u001b[0;32m\"<ipython-input-3-53decad152bc>\"\u001b[0;36m, line \u001b[0;32m1\u001b[0m\n\u001b[0;31m    lr =  # choose a learning rate, this will be a good paramter to tune\u001b[0m\n\u001b[0m                                                                        ^\u001b[0m\n\u001b[0;31mSyntaxError\u001b[0m\u001b[0;31m:\u001b[0m invalid syntax\n"
          ]
        }
      ]
    },
    {
      "metadata": {
        "id": "pBOK_ZaCq6XR",
        "colab_type": "text"
      },
      "cell_type": "markdown",
      "source": [
        "### Fit your model"
      ]
    },
    {
      "metadata": {
        "id": "6ksWXRzrrCzL",
        "colab_type": "code",
        "colab": {
          "autoexec": {
            "startup": false,
            "wait_interval": 0
          }
        }
      },
      "cell_type": "code",
      "source": [
        "history = model.fit( # your training data,\n",
        "                    # your training labels,\n",
        "                    epochs= # how many epochs?,\n",
        "                    batch_size= # batch size,\n",
        "                    validation_data=(# your validation data, val labels),\n",
        "                    verbose=1 \n",
        "                    )"
      ],
      "execution_count": 0,
      "outputs": []
    },
    {
      "metadata": {
        "id": "2YXazeH8udoG",
        "colab_type": "text"
      },
      "cell_type": "markdown",
      "source": [
        "### Code below prints the test loss and accuracy <br>\n",
        "### Before you print your accuracy and loss, play around with the parameters!!"
      ]
    },
    {
      "metadata": {
        "id": "k0e7vQOO5w90",
        "colab_type": "code",
        "colab": {
          "autoexec": {
            "startup": false,
            "wait_interval": 0
          },
          "base_uri": "https://localhost:8080/",
          "height": 51
        },
        "outputId": "a8c1a5f1-c943-4a67-b796-b9218328a06e",
        "executionInfo": {
          "status": "ok",
          "timestamp": 1531503652991,
          "user_tz": 240,
          "elapsed": 292,
          "user": {
            "displayName": "john passarelli",
            "photoUrl": "https://lh3.googleusercontent.com/a/default-user=s128",
            "userId": "102241934905781120798"
          }
        }
      },
      "cell_type": "code",
      "source": [
        "score = model.evaluate(X_test, y_test, verbose=0)\n",
        "print('Test loss:', score[0])\n",
        "print('Test accuracy:', score[1])"
      ],
      "execution_count": 0,
      "outputs": [
        {
          "output_type": "stream",
          "text": [
            "('Test loss:', 0.3925280878411983)\n",
            "('Test accuracy:', 0.8612147947064812)\n"
          ],
          "name": "stdout"
        }
      ]
    },
    {
      "metadata": {
        "id": "0oQd_q-LxEi8",
        "colab_type": "code",
        "colab": {
          "autoexec": {
            "startup": false,
            "wait_interval": 0
          }
        }
      },
      "cell_type": "code",
      "source": [
        ""
      ],
      "execution_count": 0,
      "outputs": []
    },
    {
      "metadata": {
        "id": "42UVWm_wxEf5",
        "colab_type": "code",
        "colab": {
          "autoexec": {
            "startup": false,
            "wait_interval": 0
          }
        }
      },
      "cell_type": "code",
      "source": [
        ""
      ],
      "execution_count": 0,
      "outputs": []
    },
    {
      "metadata": {
        "id": "DRsI4XwYxFgK",
        "colab_type": "text"
      },
      "cell_type": "markdown",
      "source": [
        "### Provided Functions Below"
      ]
    },
    {
      "metadata": {
        "id": "adnPCq9PuTBq",
        "colab_type": "code",
        "colab": {
          "autoexec": {
            "startup": false,
            "wait_interval": 0
          }
        }
      },
      "cell_type": "code",
      "source": [
        "def read_data_train():\n",
        "  \"\"\" Read data \"\"\"\n",
        "\n",
        "  # Fixed params\n",
        "  n_class = 6\n",
        "  n_steps = 128\n",
        "\n",
        "  label_path = 'https://raw.githubusercontent.com/BeaverWorksMedlytics/datasets/master/week2_conv1d/y_train.txt'\n",
        "  labels = pd.read_csv(label_path, header = None)\n",
        "\n",
        "  list_of_channels = ['body_acc_x', 'body_acc_y', 'body_acc_z', 'body_gyro_x',\n",
        "  'body_gyro_y', 'body_gyro_z', 'total_acc_x', 'total_acc_y', 'total_acc_z']\n",
        "\n",
        "  X = np.zeros((len(labels), n_steps, len(list_of_channels)))\n",
        "\n",
        "  label_path = 'https://raw.githubusercontent.com/BeaverWorksMedlytics/datasets/master/week2_conv1d/IntertialSignals/body_acc_x_train.txt'\n",
        "  dat_ = pd.read_csv(label_path, delim_whitespace = True, header = None)\n",
        "  X[:,:,0] = dat_.as_matrix()\n",
        "\n",
        "  label_path = 'https://raw.githubusercontent.com/BeaverWorksMedlytics/datasets/master/week2_conv1d/IntertialSignals/body_acc_y_train.txt'\n",
        "  dat_ = pd.read_csv(label_path, delim_whitespace = True, header = None)\n",
        "  X[:,:,1] = dat_.as_matrix()\n",
        "\n",
        "  label_path = 'https://raw.githubusercontent.com/BeaverWorksMedlytics/datasets/master/week2_conv1d/IntertialSignals/body_acc_z_train.txt'\n",
        "  dat_ = pd.read_csv(label_path, delim_whitespace = True, header = None)\n",
        "  X[:,:,2] = dat_.as_matrix()\n",
        "\n",
        "  label_path = 'https://raw.githubusercontent.com/BeaverWorksMedlytics/datasets/master/week2_conv1d/IntertialSignals/body_gyro_x_train.txt'\n",
        "  dat_ = pd.read_csv(label_path, delim_whitespace = True, header = None)\n",
        "  X[:,:,3] = dat_.as_matrix()\n",
        "\n",
        "  label_path = 'https://raw.githubusercontent.com/BeaverWorksMedlytics/datasets/master/week2_conv1d/IntertialSignals/body_gyro_y_train.txt'\n",
        "  dat_ = pd.read_csv(label_path, delim_whitespace = True, header = None)\n",
        "  X[:,:,4] = dat_.as_matrix()\n",
        "\n",
        "  label_path = 'https://raw.githubusercontent.com/BeaverWorksMedlytics/datasets/master/week2_conv1d/IntertialSignals/body_gyro_z_train.txt'\n",
        "  dat_ = pd.read_csv(label_path, delim_whitespace = True, header = None)\n",
        "  X[:,:,5] = dat_.as_matrix()\n",
        "\n",
        "  label_path = 'https://raw.githubusercontent.com/BeaverWorksMedlytics/datasets/master/week2_conv1d/IntertialSignals/total_acc_x_train.txt'\n",
        "  dat_ = pd.read_csv(label_path, delim_whitespace = True, header = None)\n",
        "  X[:,:,6] = dat_.as_matrix()\n",
        "\n",
        "  label_path = 'https://raw.githubusercontent.com/BeaverWorksMedlytics/datasets/master/week2_conv1d/IntertialSignals/total_acc_y_train.txt'\n",
        "  dat_ = pd.read_csv(label_path, delim_whitespace = True, header = None)\n",
        "  X[:,:,7] = dat_.as_matrix()\n",
        "\n",
        "  label_path = 'https://raw.githubusercontent.com/BeaverWorksMedlytics/datasets/master/week2_conv1d/IntertialSignals/total_acc_z_train.txt'\n",
        "  dat_ = pd.read_csv(label_path, delim_whitespace = True, header = None)\n",
        "  X[:,:,8] = dat_.as_matrix()\n",
        "\n",
        "\n",
        "  # Return \n",
        "  return X, labels[0].values, list_of_channels"
      ],
      "execution_count": 0,
      "outputs": []
    },
    {
      "metadata": {
        "id": "iDJBOkx9x0HZ",
        "colab_type": "code",
        "colab": {
          "autoexec": {
            "startup": false,
            "wait_interval": 0
          }
        }
      },
      "cell_type": "code",
      "source": [
        "def read_data_test():\n",
        "  \"\"\" Read data \"\"\"\n",
        "\n",
        "  # Fixed params\n",
        "  n_class = 6\n",
        "  n_steps = 128\n",
        "\n",
        "  label_path = 'https://raw.githubusercontent.com/BeaverWorksMedlytics/datasets/master/week2_conv1d/y_test.txt'\n",
        "  labels = pd.read_csv(label_path, header = None)\n",
        "\n",
        "  list_of_channels = ['body_acc_x', 'body_acc_y', 'body_acc_z', 'body_gyro_x',\n",
        "  'body_gyro_y', 'body_gyro_z', 'total_acc_x', 'total_acc_y', 'total_acc_z']\n",
        "\n",
        "  X = np.zeros((len(labels), n_steps, len(list_of_channels)))\n",
        "\n",
        "  label_path = 'https://raw.githubusercontent.com/BeaverWorksMedlytics/datasets/master/week2_conv1d/IntertialSignals/body_acc_x_test.txt'\n",
        "  dat_ = pd.read_csv(label_path, delim_whitespace = True, header = None)\n",
        "  X[:,:,0] = dat_.as_matrix()\n",
        "\n",
        "  label_path = 'https://raw.githubusercontent.com/BeaverWorksMedlytics/datasets/master/week2_conv1d/IntertialSignals/body_acc_y_test.txt'\n",
        "  dat_ = pd.read_csv(label_path, delim_whitespace = True, header = None)\n",
        "  X[:,:,1] = dat_.as_matrix()\n",
        "\n",
        "  label_path = 'https://raw.githubusercontent.com/BeaverWorksMedlytics/datasets/master/week2_conv1d/IntertialSignals/body_acc_z_test.txt'\n",
        "  dat_ = pd.read_csv(label_path, delim_whitespace = True, header = None)\n",
        "  X[:,:,2] = dat_.as_matrix()\n",
        "\n",
        "  label_path = 'https://raw.githubusercontent.com/BeaverWorksMedlytics/datasets/master/week2_conv1d/IntertialSignals/body_gyro_x_test.txt'\n",
        "  dat_ = pd.read_csv(label_path, delim_whitespace = True, header = None)\n",
        "  X[:,:,3] = dat_.as_matrix()\n",
        "\n",
        "  label_path = 'https://raw.githubusercontent.com/BeaverWorksMedlytics/datasets/master/week2_conv1d/IntertialSignals/body_gyro_y_test.txt'\n",
        "  dat_ = pd.read_csv(label_path, delim_whitespace = True, header = None)\n",
        "  X[:,:,4] = dat_.as_matrix()\n",
        "\n",
        "  label_path = 'https://raw.githubusercontent.com/BeaverWorksMedlytics/datasets/master/week2_conv1d/IntertialSignals/body_gyro_z_test.txt'\n",
        "  dat_ = pd.read_csv(label_path, delim_whitespace = True, header = None)\n",
        "  X[:,:,5] = dat_.as_matrix()\n",
        "\n",
        "  label_path = 'https://raw.githubusercontent.com/BeaverWorksMedlytics/datasets/master/week2_conv1d/IntertialSignals/total_acc_x_test.txt'\n",
        "  dat_ = pd.read_csv(label_path, delim_whitespace = True, header = None)\n",
        "  X[:,:,6] = dat_.as_matrix()\n",
        "\n",
        "  label_path = 'https://raw.githubusercontent.com/BeaverWorksMedlytics/datasets/master/week2_conv1d/IntertialSignals/total_acc_y_test.txt'\n",
        "  dat_ = pd.read_csv(label_path, delim_whitespace = True, header = None)\n",
        "  X[:,:,7] = dat_.as_matrix()\n",
        "\n",
        "  label_path = 'https://raw.githubusercontent.com/BeaverWorksMedlytics/datasets/master/week2_conv1d/IntertialSignals/total_acc_z_test.txt'\n",
        "  dat_ = pd.read_csv(label_path, delim_whitespace = True, header = None)\n",
        "  X[:,:,8] = dat_.as_matrix()\n",
        "\n",
        "\n",
        "  # Return \n",
        "  return X, labels[0].values, list_of_channels"
      ],
      "execution_count": 0,
      "outputs": []
    },
    {
      "metadata": {
        "id": "wrog_9co1HhG",
        "colab_type": "code",
        "colab": {
          "autoexec": {
            "startup": false,
            "wait_interval": 0
          }
        }
      },
      "cell_type": "code",
      "source": [
        "def one_hot(labels, n_class = 6):\n",
        "\t\"\"\" One-hot encoding \"\"\"\n",
        "\texpansion = np.eye(n_class)\n",
        "\ty = expansion[:, labels-1].T\n",
        "\tassert y.shape[1] == n_class, \"Wrong number of labels!\"\n",
        "\n",
        "\treturn y"
      ],
      "execution_count": 0,
      "outputs": []
    },
    {
      "metadata": {
        "id": "EYft5h8x1IbU",
        "colab_type": "code",
        "colab": {
          "autoexec": {
            "startup": false,
            "wait_interval": 0
          }
        }
      },
      "cell_type": "code",
      "source": [
        "def get_batches(X, y, batch_size = 100):\n",
        "\t\"\"\" Return a generator for batches \"\"\"\n",
        "\tn_batches = len(X) // batch_size\n",
        "\tX, y = X[:n_batches*batch_size], y[:n_batches*batch_size]\n",
        "\n",
        "\t# Loop over batches and yield\n",
        "\tfor b in range(0, len(X), batch_size):\n",
        "\t\tyield X[b:b+batch_size], y[b:b+batch_size]"
      ],
      "execution_count": 0,
      "outputs": []
    },
    {
      "metadata": {
        "id": "Sfwx7f1icYwo",
        "colab_type": "code",
        "colab": {
          "autoexec": {
            "startup": false,
            "wait_interval": 0
          }
        }
      },
      "cell_type": "code",
      "source": [
        ""
      ],
      "execution_count": 0,
      "outputs": []
    }
  ]
}