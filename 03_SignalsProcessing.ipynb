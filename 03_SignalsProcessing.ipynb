{
  "nbformat": 4,
  "nbformat_minor": 0,
  "metadata": {
    "colab": {
      "name": "03_SignalsProcessing.ipynb",
      "version": "0.3.2",
      "views": {},
      "default_view": {},
      "provenance": [],
      "collapsed_sections": []
    },
    "kernelspec": {
      "display_name": "Python 3",
      "language": "python",
      "name": "python3"
    }
  },
  "cells": [
    {
      "metadata": {
        "id": "EomyOX-WSrxK",
        "colab_type": "text"
      },
      "cell_type": "markdown",
      "source": [
        "### Definition of a Signal\n",
        "\n",
        "A signal is a function of an independent variable such as time, distance, position, or temperature.\n",
        "Some examples of biomedical signals are electrocardiogram (ECG), electroencephalogram (EEG), magnetoencephalogram (MEG), etc.\n",
        "\n",
        "\n",
        "There are many different ways signals data may manifest:\n",
        "* **Continuous**: The domain (X-axis, time) is a continuum (that is, an infinitely uncountable set)\n",
        "* **Discrete**: The domain (X-axis, time) is discrete\n",
        "* **Analog**: The amplitude (Y-axis) is continuous\n",
        "* **Digital**: The amplitude (Y-axis) is discrete\n",
        "\n",
        "<h3> <center> Examples of Continuous, Discrete and Digital Signals </center> </h3>\n",
        "\n",
        "<img src = \"https://raw.githubusercontent.com/BeaverWorksMedlytics/Week2_public/master/imgs/signals.png\">\n"
      ]
    },
    {
      "metadata": {
        "id": "j1ht6siBTavK",
        "colab_type": "code",
        "colab": {
          "autoexec": {
            "startup": false,
            "wait_interval": 0
          }
        }
      },
      "cell_type": "code",
      "source": [
        "# The first time you run in your Colab environment, you will need to clone the repo to Colab (then restart runtime)\n",
        "! git clone https://github.com/BeaverWorksMedlytics/Week2_public.git"
      ],
      "execution_count": 0,
      "outputs": []
    },
    {
      "metadata": {
        "id": "Ivg4M8CnTcUM",
        "colab_type": "code",
        "colab": {
          "autoexec": {
            "startup": false,
            "wait_interval": 0
          }
        }
      },
      "cell_type": "code",
      "source": [
        "import os\n",
        "os.chdir('Week2_public')\n",
        "os.listdir()"
      ],
      "execution_count": 0,
      "outputs": []
    },
    {
      "metadata": {
        "id": "b_pH91raSrxN",
        "colab_type": "text"
      },
      "cell_type": "markdown",
      "source": [
        "#### Exercise\n",
        "\n",
        "Generate a 5-second random signal and plot it. \n",
        "\n",
        "Is the signal continuous or discrete?  Analog or digital?\n"
      ]
    },
    {
      "metadata": {
        "id": "-36hiMH1SrxR",
        "colab_type": "code",
        "colab": {
          "autoexec": {
            "startup": false,
            "wait_interval": 0
          }
        }
      },
      "cell_type": "code",
      "source": [
        "import numpy as np\n",
        "import matplotlib.pyplot as plt\n",
        "import matplotlib\n",
        "%matplotlib inline\n",
        "matplotlib.rcParams.update({'font.size': 16})"
      ],
      "execution_count": 0,
      "outputs": []
    },
    {
      "metadata": {
        "id": "QNU8kyQrSrxc",
        "colab_type": "code",
        "colab": {
          "autoexec": {
            "startup": false,
            "wait_interval": 0
          }
        }
      },
      "cell_type": "code",
      "source": [
        "## YOUR CODE HERE"
      ],
      "execution_count": 0,
      "outputs": []
    },
    {
      "metadata": {
        "id": "oFC95DWESrxn",
        "colab_type": "text"
      },
      "cell_type": "markdown",
      "source": [
        "### Definition of Frequency \n",
        "\n",
        "Frequency is the number of occurrences of a repeating event per unit of time.\n",
        "The SI (International System of Units) unit of frequency is hertz (symbol Hz, 1 Hz = 1 / second)\n",
        "\n",
        "### Definition of Amplitude\n",
        "\n",
        "Amplitude is half the distance between the minimum and maximum values of the range of a periodic function with a bounded range.\n"
      ]
    },
    {
      "metadata": {
        "id": "YFtPoG_bSrxo",
        "colab_type": "code",
        "colab": {
          "autoexec": {
            "startup": false,
            "wait_interval": 0
          }
        }
      },
      "cell_type": "code",
      "source": [
        "n_sec = 1                         # number of seconds to plot\n",
        "n_points = 100                    # number of points per second\n",
        "f = 2                             # oscillations per second\n",
        "\n",
        "t = np.arange(n_sec*n_points)/n_points    # time axis\n",
        "y = 3+2*np.sin(2*np.pi*f*t)         # sinusoid\n",
        "\n",
        "# PLOT\n",
        "plt.figure(figsize=(10,6))\n",
        "plt.plot(t,y)\n",
        "plt.xlabel('Time (sec)')\n",
        "plt.ylabel('y')\n",
        "plt.grid()"
      ],
      "execution_count": 0,
      "outputs": []
    },
    {
      "metadata": {
        "id": "mU1cGgPhSrxv",
        "colab_type": "text"
      },
      "cell_type": "markdown",
      "source": [
        "__Question__\n",
        "\n",
        "Refering the time signal given above, what is the frequency and the amplitude?\n",
        "\n",
        "__Answer__\n",
        "\n",
        "((YOUR ANSWER HERE))"
      ]
    },
    {
      "metadata": {
        "id": "CRShRdjiSrxx",
        "colab_type": "text"
      },
      "cell_type": "markdown",
      "source": [
        "### ECG Example\n",
        "The file ecg.txt contains 15000 data points of ECG data, sampled at 1000 Hz.  Let's take a look"
      ]
    },
    {
      "metadata": {
        "id": "O0Z9fZ_FSrxx",
        "colab_type": "code",
        "colab": {
          "autoexec": {
            "startup": false,
            "wait_interval": 0
          }
        }
      },
      "cell_type": "code",
      "source": [
        "y = np.loadtxt('https://raw.githubusercontent.com/BeaverWorksMedlytics/Week2_public/master/ecg.txt',skiprows=4)\n",
        "\n",
        "n_points = len(y)\n",
        "f = 1000.\n",
        "n_sec = n_points/f\n",
        "t = np.arange(0,n_points)/f\n",
        "\n",
        "# PLOT\n",
        "plt.figure(figsize=(10,6))\n",
        "plt.plot(t,y)\n",
        "plt.xlabel('Time (sec)')\n",
        "plt.ylabel('y')\n",
        "plt.grid()"
      ],
      "execution_count": 0,
      "outputs": []
    },
    {
      "metadata": {
        "id": "SK4NRan3Srx4",
        "colab_type": "text"
      },
      "cell_type": "markdown",
      "source": [
        "__Question__\n",
        "\n",
        "Estimate frequency and amplitude of the above ECG signal (NOT using code!)\n",
        "\n",
        "__Answer__\n",
        "\n",
        "((YOUR ANSWER HERE))"
      ]
    },
    {
      "metadata": {
        "id": "-2N_jpi0Srx4",
        "colab_type": "text"
      },
      "cell_type": "markdown",
      "source": [
        "__Exercise__\n",
        "\n",
        "Generate and plot a sinusoidal signal with frequency 0.2 HZ and amplitude of 1.5."
      ]
    },
    {
      "metadata": {
        "id": "uo-0T3tvSrx5",
        "colab_type": "code",
        "colab": {
          "autoexec": {
            "startup": false,
            "wait_interval": 0
          }
        }
      },
      "cell_type": "code",
      "source": [
        "## YOUR CODE HERE"
      ],
      "execution_count": 0,
      "outputs": []
    },
    {
      "metadata": {
        "id": "afd4LhlrSrx9",
        "colab_type": "text"
      },
      "cell_type": "markdown",
      "source": [
        "__Exercise__\n",
        "\n",
        "Now add some random noise to your signal"
      ]
    },
    {
      "metadata": {
        "id": "VMPusV-kSrx-",
        "colab_type": "code",
        "colab": {
          "autoexec": {
            "startup": false,
            "wait_interval": 0
          }
        }
      },
      "cell_type": "code",
      "source": [
        "## YOUR CODE HERE"
      ],
      "execution_count": 0,
      "outputs": []
    },
    {
      "metadata": {
        "id": "xiNlkQeLSryC",
        "colab_type": "text"
      },
      "cell_type": "markdown",
      "source": [
        "# Definition of Signal Processing\n",
        "\n",
        "Signal processing usually refers to:\n",
        "- Signal generation\n",
        "- Modifying signals\n",
        "- Extracting information from signals\n",
        "\n",
        "Signal processing benefits from improvements in the areas of\n",
        "electrical engineering, applied mathematics, statistics,\n",
        "mathematical information technology, ...\n",
        "\n",
        "\n",
        "### Sampling, Sampling Rate and Sampling Theorem\n",
        "\n",
        "Sampling is the process of converting a continuous signal to a discrete one.\n",
        "- Sampling rate, usually denoted by $f_s$, is the number of samples per second *collected* from a continuous signal\n",
        "- Sampling rate is given in the unit of hertz\n",
        "\n",
        "#### Nyquist-Shannon Sampling Theorem:\n",
        "\n",
        "- Fundamental bridge between continuous-time signals and discrete-time signals\n",
        "- Establishes a sufficient condition for a sample rate that permits a discrete sequence of samples to capture all the information from a continuous-time signal of finite bandwidth\n",
        "\n",
        "- __The Theorem: \"If a function x(t) contains no frequencies higher than B hertz, it is completely determined by giving its ordinates at a series of points spaced 1/(2B) seconds apart\"__\n",
        "\n",
        "- Example: Consider the human hearing sense. The human hearing range is about from 20 Hz to 20 kHz, so the sampling frequency of audio signals must be at least 40 kHz to include all audible frequencies\n"
      ]
    },
    {
      "metadata": {
        "id": "R7zd1JeqSryD",
        "colab_type": "text"
      },
      "cell_type": "markdown",
      "source": [
        "\n",
        "<h3> <center>  A continuous signal sampled at different frequencies </center> </h3>\n",
        "\n",
        "<img src = \"https://raw.githubusercontent.com/BeaverWorksMedlytics/Week2_public/master/imgs/sampling.png\">\n"
      ]
    },
    {
      "metadata": {
        "id": "FBJQ_lHrSryE",
        "colab_type": "code",
        "colab": {
          "autoexec": {
            "startup": false,
            "wait_interval": 0
          }
        }
      },
      "cell_type": "code",
      "source": [
        "t = np.linspace(0,2,201)\n",
        "y = np.sin(10*np.pi*t) \n",
        "\n",
        "plt.figure(figsize=(10,6))\n",
        "plt.plot(t,y)\n",
        "plt.xlabel('Time (sec)')\n",
        "plt.ylabel('y(t)')\n",
        "plt.grid()\n",
        "plt.ylim([-2,2])"
      ],
      "execution_count": 0,
      "outputs": []
    },
    {
      "metadata": {
        "id": "KghkpGwjSryI",
        "colab_type": "text"
      },
      "cell_type": "markdown",
      "source": [
        "__Exercise__\n",
        "\n",
        "Wnat is the frequency of the signal above? How many points do you need in your subsample to completely determine the signal? "
      ]
    },
    {
      "metadata": {
        "id": "X7yrkkaWSryI",
        "colab_type": "text"
      },
      "cell_type": "markdown",
      "source": [
        "__Answer__\n",
        "\n",
        "((YOUR ANSWER HERE))"
      ]
    },
    {
      "metadata": {
        "id": "ln1Y-UQOSryJ",
        "colab_type": "code",
        "colab": {
          "autoexec": {
            "startup": false,
            "wait_interval": 0
          }
        }
      },
      "cell_type": "code",
      "source": [
        "t = np.linspace(0,2,201)\n",
        "y = (4/np.pi)*np.sin(2*np.pi*t) + (4/(3*np.pi))*np.sin(6*np.pi*t)\n",
        "\n",
        "plt.figure(figsize=(10,6))\n",
        "plt.plot(t,y)\n",
        "plt.xlabel('Time (sec)')\n",
        "plt.ylabel('y(t)')\n",
        "plt.grid()\n",
        "plt.ylim([-2,2])"
      ],
      "execution_count": 0,
      "outputs": []
    },
    {
      "metadata": {
        "id": "sEu9LdALSryM",
        "colab_type": "text"
      },
      "cell_type": "markdown",
      "source": [
        "__Exercise__\n",
        "\n",
        "How many points do you need in your subsample to completely determine the signal? What frequencies do you have in your signal?"
      ]
    },
    {
      "metadata": {
        "id": "t46MnR6GSryN",
        "colab_type": "text"
      },
      "cell_type": "markdown",
      "source": [
        "__Answer__\n",
        "\n",
        "((YOUR ANSWER HERE))"
      ]
    },
    {
      "metadata": {
        "id": "2tSB-S49SryO",
        "colab_type": "text"
      },
      "cell_type": "markdown",
      "source": [
        "## Aliasing\n",
        "\n",
        "Aliasing arises when a signal is discretely sampled at a rate that is insuffcient to capture the changes in the signal.\n",
        "\n",
        "__Example__\n",
        "\n",
        "Signal composed of a single sinewave at a frequency of 1 Hz "
      ]
    },
    {
      "metadata": {
        "id": "68C-pksfSryP",
        "colab_type": "code",
        "colab": {
          "autoexec": {
            "startup": false,
            "wait_interval": 0
          }
        }
      },
      "cell_type": "code",
      "source": [
        "t = np.linspace(0,4,201)\n",
        "y = np.cos(2*np.pi*t)\n",
        "\n",
        "plt.figure(figsize=(10,6))\n",
        "plt.plot(t,y)\n",
        "plt.xlabel('Time (sec)')\n",
        "plt.ylabel('y(t)')\n",
        "plt.grid()\n",
        "plt.ylim([-2,2])"
      ],
      "execution_count": 0,
      "outputs": []
    },
    {
      "metadata": {
        "id": "4B1utHqhSryT",
        "colab_type": "text"
      },
      "cell_type": "markdown",
      "source": [
        "The signal above needs to be sampled at 2 Hz (as dictated by the Nyquist theorem), that is suffcient to capture each peak and trough of the signal:"
      ]
    },
    {
      "metadata": {
        "id": "yfuy4UBISryT",
        "colab_type": "code",
        "colab": {
          "autoexec": {
            "startup": false,
            "wait_interval": 0
          }
        }
      },
      "cell_type": "code",
      "source": [
        "n_sec = 4\n",
        "fs = 2\n",
        "\n",
        "t = np.linspace(0,n_sec,201)              # 201 points from 0--4\n",
        "t2 = np.linspace(0,n_sec,n_sec*fs+1)\n",
        "\n",
        "y = np.cos(2*np.pi*t)\n",
        "y2 = np.cos(2*np.pi*t2)\n",
        "\n",
        "plt.figure(figsize=(10,6))\n",
        "plt.plot(t,y,'g')\n",
        "plt.grid()\n",
        "plt.xlabel('Time (seconds)')\n",
        "plt.title('wave(t)')\n",
        "p2 = plt.stem(t2, y2,'b--')\n",
        "plt.ylim([-2,2])"
      ],
      "execution_count": 0,
      "outputs": []
    },
    {
      "metadata": {
        "id": "qhm1uBrOSryX",
        "colab_type": "text"
      },
      "cell_type": "markdown",
      "source": [
        "If we sample at a frequency higher than this, for example at 3 Hz, then there are more\n",
        "than enough samples to capture the variations in the signal:"
      ]
    },
    {
      "metadata": {
        "id": "S_19hygeSryY",
        "colab_type": "code",
        "colab": {
          "autoexec": {
            "startup": false,
            "wait_interval": 0
          }
        }
      },
      "cell_type": "code",
      "source": [
        "n_sec = 4\n",
        "fs = 3\n",
        "\n",
        "t = np.linspace(0,n_sec,201)              \n",
        "t2 = np.linspace(0,n_sec,n_sec*fs+1)\n",
        "\n",
        "y = np.cos(2*np.pi*t)\n",
        "y2 = np.cos(2*np.pi*t2)\n",
        "\n",
        "plt.figure(figsize=(10,6))\n",
        "plt.plot(t,y,'g')\n",
        "plt.grid()\n",
        "plt.xlabel('Time (seconds)')\n",
        "plt.title('wave(t)')\n",
        "plt.ylim([-2,2])\n",
        "p2 = plt.stem(t2, y2,'b--')"
      ],
      "execution_count": 0,
      "outputs": []
    },
    {
      "metadata": {
        "id": "gTqzLEu5Sryc",
        "colab_type": "text"
      },
      "cell_type": "markdown",
      "source": [
        "If however we sample at a frequency lower than 2 Hz, for example at 1.5 Hz, then\n",
        "there are now not enough samples to capture all the peaks and troughs in the signal:"
      ]
    },
    {
      "metadata": {
        "id": "MnXon374Sryc",
        "colab_type": "code",
        "colab": {
          "autoexec": {
            "startup": false,
            "wait_interval": 0
          }
        }
      },
      "cell_type": "code",
      "source": [
        "n_sec = 4.\n",
        "fs = 1.5\n",
        "\n",
        "t = np.linspace(0,n_sec,201)              \n",
        "t2 = np.linspace(0,n_sec,n_sec*fs+1)\n",
        "\n",
        "y = np.cos(2*np.pi*t)\n",
        "y2 = np.cos(2*np.pi*t2)\n",
        "\n",
        "plt.figure(figsize=(10,6))\n",
        "plt.plot(t,y,'g')\n",
        "plt.xlabel('Time (seconds)')\n",
        "plt.title('wave(t)')\n",
        "plt.ylim([-2,2])\n",
        "p2 = plt.stem(t2, y2,'b--')\n",
        "plt.grid()"
      ],
      "execution_count": 0,
      "outputs": []
    },
    {
      "metadata": {
        "id": "DoiRF7xhSryh",
        "colab_type": "text"
      },
      "cell_type": "markdown",
      "source": [
        "Note here that we are not only losing information, but we are getting the wrong information about the signal. The person receiving these samples, without any previous knowledge of the original signal, may well be mislead into thinking that the signal has quite a different form:"
      ]
    },
    {
      "metadata": {
        "id": "HMNyaWQ8Sryh",
        "colab_type": "code",
        "colab": {
          "autoexec": {
            "startup": false,
            "wait_interval": 0
          }
        }
      },
      "cell_type": "code",
      "source": [
        "fs3 = 0.5\n",
        "y3 = np.cos(2*np.pi*fs3*t)\n",
        "\n",
        "plt.figure(figsize=(10,6))\n",
        "plt.plot(t,y,'g',label='true signal (1.0 Hz)')\n",
        "plt.grid()\n",
        "plt.xlabel('Time (seconds)')\n",
        "plt.title('wave(t)')\n",
        "plt.ylim([-2,2])\n",
        "p2 = plt.stem(t2, y2,'b--')\n",
        "plt.plot(t,y3,'r',label='false signal (0.5 Hz)')\n",
        "plt.legend()"
      ],
      "execution_count": 0,
      "outputs": []
    },
    {
      "metadata": {
        "id": "9dLvvY7rSryk",
        "colab_type": "text"
      },
      "cell_type": "markdown",
      "source": [
        "Here is another example of two sinusoids aliasing to the same digital signal:"
      ]
    },
    {
      "metadata": {
        "id": "nCee2qvMSrym",
        "colab_type": "code",
        "colab": {
          "autoexec": {
            "startup": false,
            "wait_interval": 0
          }
        }
      },
      "cell_type": "code",
      "source": [
        "t = np.linspace(0,8,801) # for continuous time signals\n",
        "n = np.arange(0,9)       # discrete time \n",
        "\n",
        "f1 = 0.3\n",
        "f2 = 1.3\n",
        "\n",
        "omega1 = 2*np.pi*f1\n",
        "omega2 = 2*np.pi*f2\n",
        "\n",
        "y1 = np.cos(omega1*t)\n",
        "y2 = np.cos(omega2*t)\n",
        "\n",
        "plt.figure(figsize=(10,6))\n",
        "plt.plot(t,y1, t,y2)\n",
        "plt.scatter(n,np.cos(2*np.pi*f1*n),marker='o',s=100)\n",
        "plt.scatter(n,np.cos(2*np.pi*f2*n),marker='*',s=100)"
      ],
      "execution_count": 0,
      "outputs": []
    },
    {
      "metadata": {
        "id": "2nZwDJJ4Sryr",
        "colab_type": "text"
      },
      "cell_type": "markdown",
      "source": [
        "We see lots of effects of aliasing in real world application\n",
        "- in movies because continuously varying images are being discretely sampled\n",
        "- in images due to improper subsampling\n",
        "- in music, etc. ...\n",
        "\n",
        "Here is a real-world example: Electricity consumption sampled poorly\n",
        "- Different sampling makes for different conclusions\n",
        "\n",
        "<img src = \"https://raw.githubusercontent.com/BeaverWorksMedlytics/Week2_public/master/imgs/aliasing.png\">"
      ]
    },
    {
      "metadata": {
        "id": "EL93lE3hSrys",
        "colab_type": "text"
      },
      "cell_type": "markdown",
      "source": [
        "In conclusion:\n",
        "\n",
        "<img src = \"https://raw.githubusercontent.com/BeaverWorksMedlytics/Week2_public/master/imgs/batman_nyquist.jpg\">"
      ]
    },
    {
      "metadata": {
        "id": "GKOsCUq9Srys",
        "colab_type": "text"
      },
      "cell_type": "markdown",
      "source": [
        "# Digital Signals\n",
        "As mentioned at the top of this notebook, signals can be discrete in the time-dimension (we just covered this) but also in the amplitude dimension.  \n",
        "\n",
        "In fact, as soon as a signal is collected by a digital device (like a computer), the signal is digital.  The resolution may be very very small, but it is still finite.  For example, the resolution of a floating point number depends on the [number of bits](http://cstl-csm.semo.edu/xzhang/Class%20Folder/CS280/Workbook_HTML/FLOATING_tut.htm) used to store it:"
      ]
    },
    {
      "metadata": {
        "id": "JQR3tQECSryt",
        "colab_type": "code",
        "colab": {
          "autoexec": {
            "startup": false,
            "wait_interval": 0
          }
        }
      },
      "cell_type": "code",
      "source": [
        "import numpy as np\n",
        "import pandas as pd\n",
        "\n",
        "df = pd.DataFrame(columns=['class','dtype','smallest normal','smallest subnormal','exponent','mantissa'])\n",
        "\n",
        "# Let's check out different float classes\n",
        "for f in (np.float16, np.float32, np.float64, float):\n",
        "    finfo = np.finfo(f)\n",
        "\n",
        "    df=df.append({'class':'{}'.format(f),\n",
        "                  'dtype':finfo.dtype,\n",
        "                  'smallest normal':finfo.tiny, \n",
        "                  'smallest subnormal':np.nextafter(f(0), f(1)), \n",
        "                  'exponent':finfo.nexp, \n",
        "                  'mantissa':finfo.nmant},ignore_index=True)\n",
        "    \n",
        "df"
      ],
      "execution_count": 0,
      "outputs": []
    },
    {
      "metadata": {
        "id": "cSYl7apaSryx",
        "colab_type": "text"
      },
      "cell_type": "markdown",
      "source": [
        "Let's look at how digitization can affect the quality of data we collect."
      ]
    },
    {
      "metadata": {
        "id": "XIX_2fQrSryx",
        "colab_type": "code",
        "colab": {
          "autoexec": {
            "startup": false,
            "wait_interval": 0
          }
        }
      },
      "cell_type": "code",
      "source": [
        "n_sec = 4\n",
        "fs = 10\n",
        "\n",
        "digres = 0     # the digital resolution (number of decimal places we can store)\n",
        "\n",
        "t = np.linspace(0,n_sec,201)\n",
        "\n",
        "# analog(ish) signal and digital signal\n",
        "y =            0.8*np.cos(0.5*np.pi*t)\n",
        "y2 = np.around(0.8*np.cos(0.5*np.pi*t),digres)\n",
        "\n",
        "plt.figure(figsize=(10,6))\n",
        "plt.plot(t,y,'g',label='signal')\n",
        "plt.grid()\n",
        "plt.xlabel('Time (seconds)')\n",
        "plt.title('wave(t)')\n",
        "plt.plot(t, y2,'r',label='digital signal')\n",
        "plt.ylim([-2,2])\n",
        "plt.legend()"
      ],
      "execution_count": 0,
      "outputs": []
    },
    {
      "metadata": {
        "id": "UsdbjygzSry0",
        "colab_type": "text"
      },
      "cell_type": "markdown",
      "source": [
        "## Digitized Newts\n",
        "Let's use one of the sound files from the last notebook and see what happens to the quality of the signal when we discretize and digitize it!"
      ]
    },
    {
      "metadata": {
        "id": "ajH_seieSry0",
        "colab_type": "code",
        "colab": {
          "autoexec": {
            "startup": false,
            "wait_interval": 0
          }
        }
      },
      "cell_type": "code",
      "source": [
        "import scipy.io.wavfile\n",
        "from IPython.display import Audio\n",
        "\n",
        "# original signal\n",
        "(sample_rate, input_signal) = scipy.io.wavfile.read(\"./sounds/newt.wav\")\n",
        "t = np.arange(0, len(input_signal)/sample_rate, 1/sample_rate)\n",
        "\n",
        "# signal2: digitize the input\n",
        "amp_res = 50     # amplitude resolution\n",
        "digitized_input = np.around(input_signal/amp_res,0)*amp_res\n",
        "\n",
        "# signal3: sample every N data points\n",
        "subsample=10      # sample every <subsample> points\n",
        "t2 = t[::subsample]\n",
        "digitized_input2 = digitized_input[::subsample]\n",
        "sample_rate2 = sample_rate/subsample\n",
        "\n",
        "# Plot\n",
        "plt.figure(figsize=(20,12))\n",
        "plt.subplot(3,1,1)\n",
        "plt.plot(t, input_signal)\n",
        "plt.title('Newt')\n",
        "plt.ylabel('amplitude')\n",
        "\n",
        "plt.subplot(3,1,2)\n",
        "plt.plot(t, digitized_input)\n",
        "plt.title('Digitized Newt')\n",
        "plt.ylabel('amplitude')\n",
        "\n",
        "plt.subplot(3,1,3)\n",
        "plt.plot(t2, digitized_input2)\n",
        "plt.title('Digitized and Subsampled Newt')\n",
        "plt.xlabel('time (in seconds)')\n",
        "plt.ylabel('amplitude')\n",
        "\n"
      ],
      "execution_count": 0,
      "outputs": []
    },
    {
      "metadata": {
        "id": "iRWMUqEhSry3",
        "colab_type": "code",
        "colab": {
          "autoexec": {
            "startup": false,
            "wait_interval": 0
          }
        }
      },
      "cell_type": "code",
      "source": [
        "# Original signal\n",
        "Audio(data=input_signal, rate=sample_rate)"
      ],
      "execution_count": 0,
      "outputs": []
    },
    {
      "metadata": {
        "id": "PhxNeL04VSh4",
        "colab_type": "code",
        "colab": {
          "autoexec": {
            "startup": false,
            "wait_interval": 0
          }
        }
      },
      "cell_type": "code",
      "source": [
        "# Digitized signal\n",
        "Audio(data=digitized_input, rate=sample_rate)\n"
      ],
      "execution_count": 0,
      "outputs": []
    },
    {
      "metadata": {
        "id": "Qof5crZwVUHx",
        "colab_type": "code",
        "colab": {
          "autoexec": {
            "startup": false,
            "wait_interval": 0
          }
        }
      },
      "cell_type": "code",
      "source": [
        "# Digitized and sub-sampled signal\n",
        "Audio(data=digitized_input2, rate=sample_rate2)"
      ],
      "execution_count": 0,
      "outputs": []
    }
  ]
}