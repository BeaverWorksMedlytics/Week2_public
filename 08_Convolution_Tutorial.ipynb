{
  "nbformat": 4,
  "nbformat_minor": 0,
  "metadata": {
    "colab": {
      "name": "08_Convolution_Tutorial.ipynb",
      "version": "0.3.2",
      "views": {},
      "default_view": {},
      "provenance": [],
      "collapsed_sections": []
    },
    "kernelspec": {
      "display_name": "Python 3",
      "language": "python",
      "name": "python3"
    }
  },
  "cells": [
    {
      "metadata": {
        "id": "lFKco4eMzbkl",
        "colab_type": "text"
      },
      "cell_type": "markdown",
      "source": [
        "### What is a convolution?"
      ]
    },
    {
      "metadata": {
        "id": "aAk_Fxipzbkq",
        "colab_type": "text"
      },
      "cell_type": "markdown",
      "source": [
        "Convolution layers are the core building blocks of Convolutional Neural Networks (CNNs)   \n",
        "CNNS are known for their effectiveness with image processing, but widely used with other data as well"
      ]
    },
    {
      "metadata": {
        "id": "9UYgb27Yzbkt",
        "colab_type": "text"
      },
      "cell_type": "markdown",
      "source": [
        "In a convolution there is the input \"image\" and the \"filter\". The smaller sized filter slides (\"convolves\") accross the \"image\" and computes dot products for each position in the slide. This creates a new output which can be fed into the next layer of the neural network. "
      ]
    },
    {
      "metadata": {
        "id": "n9-cTkS5zbkw",
        "colab_type": "text"
      },
      "cell_type": "markdown",
      "source": [
        "<img src=\"https://github.com/BeaverWorksMedlytics/datasets/blob/master/week2_conv1d/images/convolution.PNG?raw=true\">"
      ]
    },
    {
      "metadata": {
        "id": "sl5Z207Wzbky",
        "colab_type": "text"
      },
      "cell_type": "markdown",
      "source": [
        "### Math of Convolution"
      ]
    },
    {
      "metadata": {
        "id": "Xp5PmFqYzblD",
        "colab_type": "text"
      },
      "cell_type": "markdown",
      "source": [
        "<img src=\"https://github.com/BeaverWorksMedlytics/datasets/blob/master/week2_conv1d/images/math_calculation.PNG?raw=true\">"
      ]
    },
    {
      "metadata": {
        "id": "1B_5lqRMzblF",
        "colab_type": "text"
      },
      "cell_type": "markdown",
      "source": [
        "In the examples above the **kernel size** is 3 and the **stride** is 1. But the stride can be larger and simply determines the step of the convolution operation. With a stride of one, after you compute the convolution you simply move to the next adjacent cell. With a larger stride you would \"hop\" to the next cell as determined by the stride size."
      ]
    },
    {
      "metadata": {
        "id": "6hzxQULBzblI",
        "colab_type": "text"
      },
      "cell_type": "markdown",
      "source": [
        "### Max Pooling"
      ]
    },
    {
      "metadata": {
        "id": "rjn2znSYzblL",
        "colab_type": "text"
      },
      "cell_type": "markdown",
      "source": [
        "The purpose of max pooling is to down sample the representation. It bins values together and assumes values next to eachother are related. The purpose of this is it helps prevent from overfitting (just memorizing exactly what every cell looks like in the training data) as well as reduces computation cost. "
      ]
    },
    {
      "metadata": {
        "id": "NGxdJdGLzblN",
        "colab_type": "text"
      },
      "cell_type": "markdown",
      "source": [
        "<img src=\"https://github.com/BeaverWorksMedlytics/datasets/blob/master/week2_conv1d/images/max_pooling.PNG?raw=true\">"
      ]
    },
    {
      "metadata": {
        "id": "hkgUi3fUzblQ",
        "colab_type": "text"
      },
      "cell_type": "markdown",
      "source": [
        "If you think of each cell as a time stamp and each value as the speed of a car, you can imagine how cells directly next to each other are related."
      ]
    },
    {
      "metadata": {
        "id": "kahF16JazblT",
        "colab_type": "text"
      },
      "cell_type": "markdown",
      "source": [
        "### Fully Connected Layer or Dense Layer"
      ]
    },
    {
      "metadata": {
        "id": "ys8qysXyzblV",
        "colab_type": "text"
      },
      "cell_type": "markdown",
      "source": [
        "At the end of a convolutional neural network there should be a dense layer which should output the shape of you labels. For instance, if you are rating reviews as positive or negative the the fully connected layer should have an ouput shape of 2. "
      ]
    },
    {
      "metadata": {
        "id": "-uh4BAPizblY",
        "colab_type": "text"
      },
      "cell_type": "markdown",
      "source": [
        "<img src=\"https://github.com/BeaverWorksMedlytics/datasets/blob/master/week2_conv1d/images/cnn.png?raw=true\">"
      ]
    },
    {
      "metadata": {
        "id": "ap77nIrRzbla",
        "colab_type": "text"
      },
      "cell_type": "markdown",
      "source": [
        "Above is a basic CNN (for 2 dimensions), but it should give you the idea of the structure and flow of the network"
      ]
    },
    {
      "metadata": {
        "id": "AyCQpmojzble",
        "colab_type": "text"
      },
      "cell_type": "markdown",
      "source": [
        "This should provide you with a basic understanding of 1 dimensional convolutional neural network, and you will learn more in your 1D CNN worksheet exercise!"
      ]
    },
    {
      "metadata": {
        "id": "XcDTYCLvzblp",
        "colab_type": "text"
      },
      "cell_type": "markdown",
      "source": [
        "### Quick review of general neural network ideas"
      ]
    },
    {
      "metadata": {
        "id": "60sWwkA4zbls",
        "colab_type": "text"
      },
      "cell_type": "markdown",
      "source": [
        "* **Dropout:** randomly ignoring units during training to prevent overfitting\n",
        "* **Soft max cross entropy loss**: the softmax normalizes a vector (each value in the vector is a real number in the range (0,1) and the cross entropy loss creates a single number error measurement. The error represents how far off the predicted labels are from the true labels\n",
        "* **Stochastic gradient descent:** in order to update weights such that we attempt to minimzie the loss, the stochastic gradient descent updates the parameters in the direction of the gradient of the loss function\n"
      ]
    }
  ]
}