{
  "nbformat": 4,
  "nbformat_minor": 0,
  "metadata": {
    "colab": {
      "name": "00_SIR.ipynb",
      "version": "0.3.2",
      "views": {},
      "default_view": {},
      "provenance": [],
      "collapsed_sections": []
    },
    "kernelspec": {
      "display_name": "Python 3",
      "language": "python",
      "name": "python3"
    }
  },
  "cells": [
    {
      "metadata": {
        "id": "AAZzCUg-L7Cf",
        "colab_type": "code",
        "colab": {
          "autoexec": {
            "startup": false,
            "wait_interval": 0
          }
        }
      },
      "cell_type": "code",
      "source": [
        "import pandas as pd\n",
        "import numpy as np\n",
        "import matplotlib.pyplot as plt\n",
        "import matplotlib\n",
        "\n",
        "%matplotlib inline\n",
        "matplotlib.rcParams.update({'font.size': 16})\n",
        "np.set_printoptions(precision=2,suppress=True)"
      ],
      "execution_count": 0,
      "outputs": []
    },
    {
      "metadata": {
        "id": "5A96ODaiL7Cv",
        "colab_type": "text"
      },
      "cell_type": "markdown",
      "source": [
        "# Simple SIR Model\n",
        "\n",
        "$X_k = X_0 \\cdot A^k$"
      ]
    },
    {
      "metadata": {
        "id": "GLEBTBhyL7Cx",
        "colab_type": "code",
        "colab": {
          "autoexec": {
            "startup": false,
            "wait_interval": 0
          }
        }
      },
      "cell_type": "code",
      "source": [
        "# size of the population\n",
        "num_pop = 1000.\n",
        "\n",
        "# number of infected individuals\n",
        "num_infect = 2.\n",
        "\n",
        "# Define the SIR matrix (entries are probabilities)\n",
        "sir_mat = np.array([[0.8, 0.2, 0., 0.],\n",
        "                    [0., 0.5, 0.4, 0.1],\n",
        "                    [0., 0., 1., 0.],\n",
        "                    [0., 0., 0., 1.]])\n",
        "\n",
        "# Define the initial state vector (entries are numbers of people)\n",
        "x = np.array([num_pop-num_infect,num_infect,0.,0.], ndmin=2)\n",
        "\n",
        "print('Initial state vector X_0:\\n{}'.format(x))\n",
        "print('\\nSIR Update Model:\\n{}'.format(sir_mat))"
      ],
      "execution_count": 0,
      "outputs": []
    },
    {
      "metadata": {
        "id": "2NPMkwmuL7C5",
        "colab_type": "code",
        "colab": {
          "autoexec": {
            "startup": false,
            "wait_interval": 0
          }
        }
      },
      "cell_type": "code",
      "source": [
        "n_steps = 20\n",
        "for s in range(n_steps):\n",
        "  \n",
        "  # YOUR CODE HERE"
      ],
      "execution_count": 0,
      "outputs": []
    },
    {
      "metadata": {
        "id": "vvb8oUu8L7DS",
        "colab_type": "text"
      },
      "cell_type": "markdown",
      "source": [
        "# SIR Model - v2\n",
        "\n",
        "A more accurate (but still pretty simple) SIR model follows:\n",
        "\n",
        "* $S_{n+1}=S_n(1-\\frac{\\beta}{N}I_n)$\n",
        "\n",
        "* $I_{n+1}=I_n(1+\\frac{\\beta}{N}S_n-\\gamma-\\alpha)$\n",
        "\n",
        "* $R_{n+1}=R_n+\\gamma I_n$\n",
        "\n",
        "* $D_{n+1}=D_n+\\alpha I_n$\n",
        "\n",
        "where $\\beta$ represents the probability of an S person becoming infected upon contact with an I, $\\gamma$ is the probability of an I person recovering, and $\\alpha$ is the probability of an I person dying.  Note that $1/\\gamma$ is the average length of the infection period."
      ]
    },
    {
      "metadata": {
        "id": "BWU4Xe21L7DU",
        "colab_type": "code",
        "colab": {
          "autoexec": {
            "startup": false,
            "wait_interval": 0
          }
        }
      },
      "cell_type": "code",
      "source": [
        "# size of the population\n",
        "num_pop = 1000.\n",
        "\n",
        "# number of infected individuals\n",
        "num_infect = 5.\n",
        "\n",
        "beta = 0.2\n",
        "gamma = 0.15\n",
        "alpha = 0.01\n",
        "\n",
        "S = num_pop-num_infect\n",
        "I = num_infect\n",
        "R = 0\n",
        "D = 0"
      ],
      "execution_count": 0,
      "outputs": []
    },
    {
      "metadata": {
        "id": "k8-YeskIL7Da",
        "colab_type": "code",
        "colab": {
          "autoexec": {
            "startup": false,
            "wait_interval": 0
          }
        }
      },
      "cell_type": "code",
      "source": [
        "n_steps = 200\n",
        "for s in range(n_steps):\n",
        "    \n",
        "    # YOUR CODE HERE"
      ],
      "execution_count": 0,
      "outputs": []
    },
    {
      "metadata": {
        "id": "rVpqJ49pL7Dl",
        "colab_type": "code",
        "colab": {
          "autoexec": {
            "startup": false,
            "wait_interval": 0
          }
        }
      },
      "cell_type": "code",
      "source": [
        ""
      ],
      "execution_count": 0,
      "outputs": []
    }
  ]
}