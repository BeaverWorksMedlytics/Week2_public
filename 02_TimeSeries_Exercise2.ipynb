{
  "nbformat": 4,
  "nbformat_minor": 0,
  "metadata": {
    "colab": {
      "name": "02_TimeSeries_Exercise2.ipynb",
      "version": "0.3.2",
      "views": {},
      "default_view": {},
      "provenance": [],
      "collapsed_sections": []
    },
    "kernelspec": {
      "display_name": "Python 3",
      "language": "python",
      "name": "python3"
    }
  },
  "cells": [
    {
      "metadata": {
        "id": "GnnL7-OkOMAP",
        "colab_type": "text"
      },
      "cell_type": "markdown",
      "source": [
        "# Representing Signals Data\n",
        "\n",
        "There are multiple ways to represent time series signals data.\n",
        "- Some are good, some are bad, some are convenient\n",
        "\n",
        "In this notebook we will look at signals data in the:\n",
        "1. Time Domain\n",
        "2. Frequency Domain\n",
        "3. Time/Frequency Domain\n",
        "\n"
      ]
    },
    {
      "metadata": {
        "id": "j4MTKpnHOMAS",
        "colab_type": "text"
      },
      "cell_type": "markdown",
      "source": [
        "# The Time Domain \n",
        "\n",
        "Visualizing a signal in the time domain is often most intuitive at first, and gives some indication of signal strength (e.g., volumne) and duration.  The plot below shows an audio signal in the time domain.  In this section we will learn how to build a complex signal, and then later we'll learn how to decompose it!\n",
        "\n",
        "<img src = \"https://raw.githubusercontent.com/BeaverWorksMedlytics/Week2_public/master/imgs/sound_time_series.png\">\n",
        "\n",
        "\n",
        "\n"
      ]
    },
    {
      "metadata": {
        "id": "9a-JurDgOMAT",
        "colab_type": "text"
      },
      "cell_type": "markdown",
      "source": [
        "### Sinusoids: the basic building block of time series\n",
        "\n",
        "Sinusoids are special\n",
        "- Simplest waveform – a single frequency\n",
        "\n",
        "A sinusoid is represented by the equation:\n",
        "\n",
        "&emsp;&emsp;$y(t) = a(t) sin (2\\pi ft+\\phi) = a(t) sin (\\omega t+\\phi)$ \n",
        "\n",
        "where:\n",
        "\n",
        "* $a(t) = $ amplitude\n",
        "* $f = $ ordinary frequency, or number of oscillations that occur each second of time (Hz)\n",
        "* $\\omega = 2\\pi f$, the angular frequency (radians per second)\n",
        "* $\\phi =$ phase\n",
        "     \n",
        "Its simplicity makes sinusoids excellent building blocks for many time series.\n",
        "\n",
        "Let's look at an example."
      ]
    },
    {
      "metadata": {
        "id": "D5Tmi1M7O1g4",
        "colab_type": "code",
        "colab": {
          "autoexec": {
            "startup": false,
            "wait_interval": 0
          }
        }
      },
      "cell_type": "code",
      "source": [
        "# The first time you run this notebook, you will need to clone the repo to Colab (then restart runtime)\n",
        "! git clone https://github.com/BeaverWorksMedlytics/Week2_public.git\n",
        "\n"
      ],
      "execution_count": 0,
      "outputs": []
    },
    {
      "metadata": {
        "id": "NhkB7JYWOMAW",
        "colab_type": "code",
        "colab": {
          "autoexec": {
            "startup": false,
            "wait_interval": 0
          }
        }
      },
      "cell_type": "code",
      "source": [
        "import numpy as np\n",
        "import matplotlib.pyplot as plt\n",
        "import matplotlib\n",
        "import scipy.io.wavfile\n",
        "from IPython.display import Audio\n",
        "\n",
        "%matplotlib inline\n",
        "matplotlib.rcParams.update({'font.size': 16})\n",
        "\n"
      ],
      "execution_count": 0,
      "outputs": []
    },
    {
      "metadata": {
        "id": "uEHL63v9QAEl",
        "colab_type": "code",
        "colab": {
          "autoexec": {
            "startup": false,
            "wait_interval": 0
          }
        }
      },
      "cell_type": "code",
      "source": [
        "import os\n",
        "os.chdir('Week2_public')\n",
        "os.listdir()"
      ],
      "execution_count": 0,
      "outputs": []
    },
    {
      "metadata": {
        "id": "hB8mSQ9MOMAe",
        "colab_type": "code",
        "colab": {
          "autoexec": {
            "startup": false,
            "wait_interval": 0
          }
        }
      },
      "cell_type": "code",
      "source": [
        "n_sec = 1                         # number of seconds to plot\n",
        "n_points = 50                     # number of points per second\n",
        "\n",
        "a = 1                             # amplitude\n",
        "f = 1                             # one oscillation per second\n",
        "omega = 2*np.pi*f                 # angular frequency\n",
        "phi = 0                           # phase\n",
        "\n",
        "t = np.arange(n_sec*n_points)/n_points    # time axis\n",
        "y = a*np.sin(omega*t + phi)       # sinusoid\n",
        "\n",
        "# PLOT\n",
        "plt.plot(t,y)\n",
        "plt.xlabel('Time (sec)')\n",
        "plt.ylabel('y')\n",
        "plt.grid()\n",
        "plt.ylim([-1,1])"
      ],
      "execution_count": 0,
      "outputs": []
    },
    {
      "metadata": {
        "id": "5mXcT8gROMAn",
        "colab_type": "text"
      },
      "cell_type": "markdown",
      "source": [
        "We can combine multiple sinusoids to create more complex signals."
      ]
    },
    {
      "metadata": {
        "id": "1noSz7G9OMAo",
        "colab_type": "code",
        "colab": {
          "autoexec": {
            "startup": false,
            "wait_interval": 0
          }
        }
      },
      "cell_type": "code",
      "source": [
        "n_sec = 1                         # number of seconds to plot\n",
        "n_points = 100                    # number of points per second\n",
        "t = np.arange(n_sec*n_points)/n_points    # time \n",
        "\n",
        "\n",
        "# Let's combine three sinusoids\n",
        "n_signals = 3\n",
        "y_sum = np.zeros((len(t),))\n",
        "plt.figure(figsize=(10,10))\n",
        "plt.subplot(2,1,1)\n",
        "for s in range(n_signals):\n",
        "    a = s+1                  # amplitude\n",
        "    f = 2*s+1                # oscillations per second\n",
        "    omega = 2*np.pi*f        # angular frequency\n",
        "    phi = np.pi/4*s          # phase\n",
        "    \n",
        "    y= a*np.sin(omega*t + phi)\n",
        "    y_sum += y\n",
        "    \n",
        "    plt.plot(t,y,label='Signal {}'.format(s))\n",
        "    \n",
        "plt.xlabel('Time (sec)')\n",
        "plt.ylabel('y')\n",
        "plt.legend()\n",
        "\n",
        "# Plot the sum of the signals\n",
        "plt.subplot(2,1,2)\n",
        "plt.plot(t,y_sum,'r',label='Sum of Signals')\n",
        "plt.xlabel('Time (sec)')\n",
        "plt.ylabel('y')\n",
        "plt.legend()\n"
      ],
      "execution_count": 0,
      "outputs": []
    },
    {
      "metadata": {
        "id": "S-A9sRcgOMAt",
        "colab_type": "text"
      },
      "cell_type": "markdown",
      "source": [
        "### Approximating a Square Wave\n",
        "\n",
        "As you've seen, we can create arbitrary signals by combining multiple sinusoid waves.  Let's practice approximating a square wave!\n",
        "\n",
        "Using Fourier expansion, an ideal square wave with an amplitude of 1 can be represented as an infinite sum of sinusoidal waves:\n",
        "\n",
        "&emsp;&emsp;$y ( t ) = \\frac{4}{\\pi} \\sum_{k=1}^\\infty \\frac{sin ⁡ ( 2 \\pi ( 2 k − 1 ) f t )}{ 2 k − 1} = \\frac{4}{ \\pi} ( sin ⁡ ( 2 \\pi f t ) + \\frac{1}{3} sin ⁡ ( 6 \\pi f t ) + \\frac{1}{5} sin ⁡ ( 10 \\pi f t ) + ⋯ )$"
      ]
    },
    {
      "metadata": {
        "id": "V4y0Io3EOMAu",
        "colab_type": "code",
        "colab": {
          "autoexec": {
            "startup": false,
            "wait_interval": 0
          }
        }
      },
      "cell_type": "code",
      "source": [
        "## YOUR CODE HERE"
      ],
      "execution_count": 0,
      "outputs": []
    },
    {
      "metadata": {
        "id": "FVPIb1cQOMAy",
        "colab_type": "text"
      },
      "cell_type": "markdown",
      "source": [
        "Those little peaks near the corners are caused by what's known as the [Gibbs Phenomenon](https://en.wikipedia.org/wiki/Gibbs_phenomenon). As long as we have a finite number of terms, no matter how many, we will have Gibbs phenomena."
      ]
    },
    {
      "metadata": {
        "id": "NcMvgx3cOMAz",
        "colab_type": "text"
      },
      "cell_type": "markdown",
      "source": [
        "## Fun with Sounds \n",
        "Let's have some fun with sounds, and hear what some of these sinusoids sound like. \n",
        "\n",
        "Important fact for this experiment: The human hearing range is about from 20 Hz to 20 kHz, although it's fairly common for [people who are over 25 years of age to not be able to hear above 15kHz](http://www.noiseaddicts.com/2009/03/can-you-hear-this-hearing-test/).\n",
        "\n",
        "If you're musically inclined, \"middle C\" is approximately 262 Hz.  More note frequencies can be found [here](https://pages.mtu.edu/~suits/notefreqs.html)."
      ]
    },
    {
      "metadata": {
        "id": "jnOQlrVkOMA0",
        "colab_type": "code",
        "colab": {
          "autoexec": {
            "startup": false,
            "wait_interval": 0
          }
        }
      },
      "cell_type": "code",
      "source": [
        "n_sec = 1              # number of seconds\n",
        "f = 262.               # frequency (in Hz)\n",
        "omega = 2*np.pi*f      # angular frequency (rad/sec)\n",
        "phi = 0                # phase\n",
        "n_points = f*n_sec*4   # number of points -- must be greater than f*n_sec*2\n",
        "\n",
        "t = np.arange(n_sec*n_points)/n_points    \n",
        "y = a*np.sin(omega*t + phi)       \n",
        "\n",
        "plt.figure(figsize=(20,4))\n",
        "plt.plot(t,y)\n",
        "plt.xlabel('Time-seconds')\n",
        "plt.grid(True)\n",
        "Audio(data=y, rate=n_points)"
      ],
      "execution_count": 0,
      "outputs": []
    },
    {
      "metadata": {
        "id": "CYYGNi2TOMA4",
        "colab_type": "text"
      },
      "cell_type": "markdown",
      "source": [
        "### Beats\n",
        "If you combine two signals with very similar frequencies, you may induce *beats*.\n",
        "\n",
        "<img src = \"https://raw.githubusercontent.com/BeaverWorksMedlytics/Week2_public/master/imgs/beats.gif\">\n",
        "\n"
      ]
    },
    {
      "metadata": {
        "id": "YEkCI1kLOMA6",
        "colab_type": "code",
        "colab": {
          "autoexec": {
            "startup": false,
            "wait_interval": 0
          }
        }
      },
      "cell_type": "code",
      "source": [
        "f = 262                # base frequency (Hz)\n",
        "f_diff = 2             # frequency difference (Hz)\n",
        "\n",
        "\n",
        "n_sec = 5              # number of seconds\n",
        "omega1 = 2*np.pi*f     # angular frequency (rad/sec)\n",
        "omega2 = 2*np.pi*(f+f_diff)    \n",
        "\n",
        "n_points = (f+f_diff)*n_sec*4   # number of points -- must be greater than (f+f_diff)*n_sec*2\n",
        "t = np.arange(n_sec*n_points)/n_points    \n",
        "y = np.sin(omega1*t) + np.sin(omega2*t+np.pi)  \n",
        "\n",
        "plt.figure(figsize=(20,4))\n",
        "plt.plot(t,y)\n",
        "plt.xlabel('Time-seconds')\n",
        "plt.grid(True)\n",
        "Audio(data=y, rate=n_points)"
      ],
      "execution_count": 0,
      "outputs": []
    },
    {
      "metadata": {
        "id": "MgA_5ZyPOMBA",
        "colab_type": "text"
      },
      "cell_type": "markdown",
      "source": [
        "### Signal-in-a-signal (just for fun!)"
      ]
    },
    {
      "metadata": {
        "id": "0N_4-scPOMBB",
        "colab_type": "code",
        "colab": {
          "autoexec": {
            "startup": false,
            "wait_interval": 0
          }
        }
      },
      "cell_type": "code",
      "source": [
        "n_sec = 4\n",
        "n_points = 8000\n",
        "t = np.arange(n_sec*n_points)/n_points    \n",
        "y = np.sin(50*np.pi*t-50*np.cos(4*np.pi*t))\n",
        "\n",
        "plt.figure(figsize=(20,4))\n",
        "plt.plot(t,y)\n",
        "plt.xlabel('Time-seconds')\n",
        "plt.grid(True)\n",
        "Audio(data=y, rate=n_points)"
      ],
      "execution_count": 0,
      "outputs": []
    },
    {
      "metadata": {
        "id": "oOzlVa66OMBH",
        "colab_type": "text"
      },
      "cell_type": "markdown",
      "source": [
        "#### Exercise\n",
        "\n",
        "Let's play with more sounds.  Here is what \"ah\" sound looks like:"
      ]
    },
    {
      "metadata": {
        "id": "2A7gC6UIOMBI",
        "colab_type": "code",
        "colab": {
          "autoexec": {
            "startup": false,
            "wait_interval": 0
          }
        }
      },
      "cell_type": "code",
      "source": [
        "(sample_rate, input_signal) = scipy.io.wavfile.read(\"./sounds/vowel_ah.wav\")\n",
        "\n",
        "t = np.arange(0, len(input_signal)/sample_rate, 1/sample_rate)\n",
        "\n",
        "plt.figure(figsize=(20,4))\n",
        "plt.plot(t[0:4000], input_signal[0:4000])\n",
        "plt.title('Ah vowel sound')\n",
        "plt.xlabel('time (in seconds)')\n",
        "plt.ylabel('amplitude')"
      ],
      "execution_count": 0,
      "outputs": []
    },
    {
      "metadata": {
        "id": "rbjnEC8QOMBL",
        "colab_type": "text"
      },
      "cell_type": "markdown",
      "source": [
        "Now let's play the sound!"
      ]
    },
    {
      "metadata": {
        "id": "eysdUBVuOMBL",
        "colab_type": "code",
        "colab": {
          "autoexec": {
            "startup": false,
            "wait_interval": 0
          }
        }
      },
      "cell_type": "code",
      "source": [
        "Audio(data=input_signal, rate=sample_rate)"
      ],
      "execution_count": 0,
      "outputs": []
    },
    {
      "metadata": {
        "id": "DTN7BpKlOMBO",
        "colab_type": "code",
        "colab": {
          "autoexec": {
            "startup": false,
            "wait_interval": 0
          }
        }
      },
      "cell_type": "code",
      "source": [
        "# for reference, this is what it should sound like\n",
        "Audio(\"./sounds/vowel_ah.wav\")"
      ],
      "execution_count": 0,
      "outputs": []
    },
    {
      "metadata": {
        "id": "u1AShk82OMBR",
        "colab_type": "text"
      },
      "cell_type": "markdown",
      "source": [
        "### Okay, just one more!..."
      ]
    },
    {
      "metadata": {
        "id": "WZguob_IOMBS",
        "colab_type": "code",
        "colab": {
          "autoexec": {
            "startup": false,
            "wait_interval": 0
          }
        }
      },
      "cell_type": "code",
      "source": [
        "(sample_rate, input_signal) = scipy.io.wavfile.read(\"./sounds/newt.wav\")\n",
        "\n",
        "t = np.arange(0, len(input_signal)/sample_rate, 1/sample_rate)\n",
        "\n",
        "plt.figure(figsize=(20,4))\n",
        "plt.plot(t, input_signal)\n",
        "plt.title('Newt')\n",
        "plt.xlabel('time (in seconds)')\n",
        "plt.ylabel('amplitude')\n",
        "\n",
        "Audio(data=input_signal, rate=sample_rate)"
      ],
      "execution_count": 0,
      "outputs": []
    },
    {
      "metadata": {
        "id": "ftJf6HktOMBV",
        "colab_type": "text"
      },
      "cell_type": "markdown",
      "source": [
        "# Frequency Domain Representation\n",
        "\n",
        "Another useful representation is the frequency domain\n",
        "- Provides an alternative representation\n",
        "- Is very mathematically convenient!\n",
        "\n",
        "Time series can be decomposed in terms of sinusoidal building blocks called the *spectrum*.\n",
        "\n",
        "\n",
        "<img src = \"https://raw.githubusercontent.com/BeaverWorksMedlytics/Week2_public/master/imgs/sound_frequencies.png\">\n",
        "\n",
        "In a subsequent lesson we will learn how to use the [Fourier Transform](https://en.wikipedia.org/wiki/Fourier_transform) to decompose time series data into its frequency spectrum.\n",
        "\n",
        "There is no temporal information in the spectrum, only frequencies\n",
        "- Not that great of a representation for dynamically changing sounds (e.g., speech and music)\n",
        "- Can display some information about the energy and the length of the signal, but not what it sounds like!\n",
        "\n",
        "<img src = \"https://raw.githubusercontent.com/BeaverWorksMedlytics/Week2_public/master/imgs/sound_time_series_2.png\">\n",
        "\n",
        "\n"
      ]
    },
    {
      "metadata": {
        "id": "xZKmbRieOMBW",
        "colab_type": "text"
      },
      "cell_type": "markdown",
      "source": [
        "# Time/Frequency Representation\n",
        "\n",
        "Many names/varieties\n",
        "- Spectrogram, sonogram, periodogram, ...\n",
        "\n",
        "A time-ordered sequence of frequency compositions\n",
        "- Can help show how things change in both time and frequency\n",
        "\n",
        "Most useful representation so far!\n",
        "- Reveals information about both the time and frequency content without loss\n",
        "\n",
        "<img src = \"https://raw.githubusercontent.com/BeaverWorksMedlytics/Week2_public/master/imgs/sound_time_plus_frequencies.png\">"
      ]
    },
    {
      "metadata": {
        "id": "rCnwY9-yOMBX",
        "colab_type": "text"
      },
      "cell_type": "markdown",
      "source": [
        "###  A Real Example\n",
        "\n",
        "Time domain\n",
        "- We see the events\n",
        "- What do they sound like though?\n",
        "\n",
        "Frequency domain\n",
        "- We see bass and mids\n",
        "- Where are they though?\n",
        "\n",
        "Spectrogram\n",
        "- We \"see\" all the sounds\n",
        "- And have a sense of how they sound!\n",
        "\n",
        "<img src = \"https://raw.githubusercontent.com/BeaverWorksMedlytics/Week2_public/master/imgs/sound_real_example.png\">"
      ]
    },
    {
      "metadata": {
        "id": "Ku05xcI3OMBY",
        "colab_type": "text"
      },
      "cell_type": "markdown",
      "source": [
        "We will work more in the frequency and time/frequency domains later, but for now just be aware that they exist (and are useful)!\n",
        "\n",
        "<img src = \"https://raw.githubusercontent.com/BeaverWorksMedlytics/Week2_public/master/imgs/doge.jpg\" alt=\"doge\" style=\"width:200px;height:200px;\">\n"
      ]
    },
    {
      "metadata": {
        "id": "ZzUoCF6oOMBZ",
        "colab_type": "code",
        "colab": {
          "autoexec": {
            "startup": false,
            "wait_interval": 0
          }
        }
      },
      "cell_type": "code",
      "source": [
        ""
      ],
      "execution_count": 0,
      "outputs": []
    }
  ]
}